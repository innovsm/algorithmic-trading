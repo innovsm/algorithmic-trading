{
 "cells": [
  {
   "cell_type": "code",
   "execution_count": 1,
   "metadata": {},
   "outputs": [],
   "source": [
    "import pandas as pd\n",
    "import numpy as np\n",
    "import matplotlib.pyplot as plt\n",
    "import seaborn as sns\n"
   ]
  },
  {
   "cell_type": "code",
   "execution_count": 70,
   "metadata": {},
   "outputs": [
    {
     "data": {
      "text/html": [
       "<div>\n",
       "<style scoped>\n",
       "    .dataframe tbody tr th:only-of-type {\n",
       "        vertical-align: middle;\n",
       "    }\n",
       "\n",
       "    .dataframe tbody tr th {\n",
       "        vertical-align: top;\n",
       "    }\n",
       "\n",
       "    .dataframe thead th {\n",
       "        text-align: right;\n",
       "    }\n",
       "</style>\n",
       "<table border=\"1\" class=\"dataframe\">\n",
       "  <thead>\n",
       "    <tr style=\"text-align: right;\">\n",
       "      <th></th>\n",
       "      <th>Unnamed: 0</th>\n",
       "      <th>Open</th>\n",
       "      <th>High</th>\n",
       "      <th>Low</th>\n",
       "      <th>Close</th>\n",
       "      <th>Adj Close</th>\n",
       "      <th>adx</th>\n",
       "      <th>adx_pos</th>\n",
       "      <th>adx_neg</th>\n",
       "      <th>obv</th>\n",
       "      <th>...</th>\n",
       "      <th>macdsignal</th>\n",
       "      <th>signal</th>\n",
       "      <th>Volume</th>\n",
       "      <th>ma_20</th>\n",
       "      <th>ma_50</th>\n",
       "      <th>ma_200</th>\n",
       "      <th>ma_20_200</th>\n",
       "      <th>ma_50_200</th>\n",
       "      <th>profit/loss</th>\n",
       "      <th>outcome</th>\n",
       "    </tr>\n",
       "  </thead>\n",
       "  <tbody>\n",
       "    <tr>\n",
       "      <th>0</th>\n",
       "      <td>NaN</td>\n",
       "      <td>18.180323</td>\n",
       "      <td>19.131887</td>\n",
       "      <td>18.068146</td>\n",
       "      <td>19.131887</td>\n",
       "      <td>13.117092</td>\n",
       "      <td>42.655607</td>\n",
       "      <td>49.538213</td>\n",
       "      <td>10.336113</td>\n",
       "      <td>914100854</td>\n",
       "      <td>...</td>\n",
       "      <td>0.804423</td>\n",
       "      <td>True</td>\n",
       "      <td>169563456</td>\n",
       "      <td>16.697107</td>\n",
       "      <td>15.832846</td>\n",
       "      <td>15.848814</td>\n",
       "      <td>True</td>\n",
       "      <td>False</td>\n",
       "      <td>4.413564</td>\n",
       "      <td>profit</td>\n",
       "    </tr>\n",
       "    <tr>\n",
       "      <th>1</th>\n",
       "      <td>NaN</td>\n",
       "      <td>20.474136</td>\n",
       "      <td>20.474136</td>\n",
       "      <td>18.373730</td>\n",
       "      <td>18.656103</td>\n",
       "      <td>12.790886</td>\n",
       "      <td>44.884183</td>\n",
       "      <td>52.856642</td>\n",
       "      <td>7.948559</td>\n",
       "      <td>717411407</td>\n",
       "      <td>...</td>\n",
       "      <td>0.868068</td>\n",
       "      <td>True</td>\n",
       "      <td>196689447</td>\n",
       "      <td>16.883678</td>\n",
       "      <td>15.943562</td>\n",
       "      <td>15.876747</td>\n",
       "      <td>True</td>\n",
       "      <td>True</td>\n",
       "      <td>4.003538</td>\n",
       "      <td>profit</td>\n",
       "    </tr>\n",
       "    <tr>\n",
       "      <th>2</th>\n",
       "      <td>NaN</td>\n",
       "      <td>18.025595</td>\n",
       "      <td>19.108679</td>\n",
       "      <td>18.025595</td>\n",
       "      <td>18.849512</td>\n",
       "      <td>12.923492</td>\n",
       "      <td>46.164983</td>\n",
       "      <td>46.847337</td>\n",
       "      <td>10.699233</td>\n",
       "      <td>885667392</td>\n",
       "      <td>...</td>\n",
       "      <td>0.931193</td>\n",
       "      <td>True</td>\n",
       "      <td>168255985</td>\n",
       "      <td>17.070901</td>\n",
       "      <td>16.057521</td>\n",
       "      <td>15.906327</td>\n",
       "      <td>True</td>\n",
       "      <td>True</td>\n",
       "      <td>4.204683</td>\n",
       "      <td>profit</td>\n",
       "    </tr>\n",
       "    <tr>\n",
       "      <th>3</th>\n",
       "      <td>NaN</td>\n",
       "      <td>21.971111</td>\n",
       "      <td>22.203201</td>\n",
       "      <td>20.733303</td>\n",
       "      <td>20.961523</td>\n",
       "      <td>14.371512</td>\n",
       "      <td>39.557426</td>\n",
       "      <td>32.660708</td>\n",
       "      <td>29.012677</td>\n",
       "      <td>580520517</td>\n",
       "      <td>...</td>\n",
       "      <td>0.992235</td>\n",
       "      <td>False</td>\n",
       "      <td>261983518</td>\n",
       "      <td>21.729727</td>\n",
       "      <td>20.174654</td>\n",
       "      <td>17.510383</td>\n",
       "      <td>True</td>\n",
       "      <td>True</td>\n",
       "      <td>-2.649687</td>\n",
       "      <td>loss</td>\n",
       "    </tr>\n",
       "    <tr>\n",
       "      <th>4</th>\n",
       "      <td>NaN</td>\n",
       "      <td>26.156454</td>\n",
       "      <td>26.218346</td>\n",
       "      <td>25.367352</td>\n",
       "      <td>25.553022</td>\n",
       "      <td>18.161884</td>\n",
       "      <td>19.865585</td>\n",
       "      <td>21.531870</td>\n",
       "      <td>40.143903</td>\n",
       "      <td>3768660433</td>\n",
       "      <td>...</td>\n",
       "      <td>-0.177864</td>\n",
       "      <td>False</td>\n",
       "      <td>135990591</td>\n",
       "      <td>27.384028</td>\n",
       "      <td>27.123779</td>\n",
       "      <td>23.279698</td>\n",
       "      <td>True</td>\n",
       "      <td>True</td>\n",
       "      <td>-2.587795</td>\n",
       "      <td>loss</td>\n",
       "    </tr>\n",
       "    <tr>\n",
       "      <th>5</th>\n",
       "      <td>NaN</td>\n",
       "      <td>58.935188</td>\n",
       "      <td>60.846058</td>\n",
       "      <td>58.277603</td>\n",
       "      <td>58.548374</td>\n",
       "      <td>41.613422</td>\n",
       "      <td>29.954955</td>\n",
       "      <td>78.911531</td>\n",
       "      <td>8.135712</td>\n",
       "      <td>5711375732</td>\n",
       "      <td>...</td>\n",
       "      <td>2.056159</td>\n",
       "      <td>True</td>\n",
       "      <td>80476056</td>\n",
       "      <td>32.915236</td>\n",
       "      <td>29.958512</td>\n",
       "      <td>25.353120</td>\n",
       "      <td>True</td>\n",
       "      <td>True</td>\n",
       "      <td>31.850378</td>\n",
       "      <td>profit</td>\n",
       "    </tr>\n",
       "    <tr>\n",
       "      <th>6</th>\n",
       "      <td>NaN</td>\n",
       "      <td>58.347229</td>\n",
       "      <td>58.347229</td>\n",
       "      <td>52.699726</td>\n",
       "      <td>52.784824</td>\n",
       "      <td>37.516960</td>\n",
       "      <td>31.820889</td>\n",
       "      <td>68.765905</td>\n",
       "      <td>19.351439</td>\n",
       "      <td>5615604588</td>\n",
       "      <td>...</td>\n",
       "      <td>2.916322</td>\n",
       "      <td>True</td>\n",
       "      <td>95771144</td>\n",
       "      <td>34.807578</td>\n",
       "      <td>30.853662</td>\n",
       "      <td>25.626073</td>\n",
       "      <td>True</td>\n",
       "      <td>True</td>\n",
       "      <td>29.223902</td>\n",
       "      <td>profit</td>\n",
       "    </tr>\n",
       "    <tr>\n",
       "      <th>7</th>\n",
       "      <td>NaN</td>\n",
       "      <td>53.976215</td>\n",
       "      <td>58.037777</td>\n",
       "      <td>53.976215</td>\n",
       "      <td>57.890785</td>\n",
       "      <td>41.146038</td>\n",
       "      <td>33.553541</td>\n",
       "      <td>61.160193</td>\n",
       "      <td>17.211113</td>\n",
       "      <td>5725656124</td>\n",
       "      <td>...</td>\n",
       "      <td>3.964935</td>\n",
       "      <td>True</td>\n",
       "      <td>110051536</td>\n",
       "      <td>37.005978</td>\n",
       "      <td>31.913941</td>\n",
       "      <td>25.947115</td>\n",
       "      <td>True</td>\n",
       "      <td>True</td>\n",
       "      <td>36.252335</td>\n",
       "      <td>profit</td>\n",
       "    </tr>\n",
       "    <tr>\n",
       "      <th>8</th>\n",
       "      <td>NaN</td>\n",
       "      <td>29.227768</td>\n",
       "      <td>31.355253</td>\n",
       "      <td>29.227768</td>\n",
       "      <td>30.860128</td>\n",
       "      <td>21.933924</td>\n",
       "      <td>47.458607</td>\n",
       "      <td>47.348492</td>\n",
       "      <td>8.381235</td>\n",
       "      <td>6420295994</td>\n",
       "      <td>...</td>\n",
       "      <td>0.978651</td>\n",
       "      <td>True</td>\n",
       "      <td>70544961</td>\n",
       "      <td>27.969860</td>\n",
       "      <td>26.777351</td>\n",
       "      <td>26.152427</td>\n",
       "      <td>True</td>\n",
       "      <td>True</td>\n",
       "      <td>6.312826</td>\n",
       "      <td>profit</td>\n",
       "    </tr>\n",
       "    <tr>\n",
       "      <th>9</th>\n",
       "      <td>NaN</td>\n",
       "      <td>30.248960</td>\n",
       "      <td>30.929756</td>\n",
       "      <td>30.016872</td>\n",
       "      <td>30.751822</td>\n",
       "      <td>21.856945</td>\n",
       "      <td>49.572283</td>\n",
       "      <td>48.399216</td>\n",
       "      <td>12.462369</td>\n",
       "      <td>6359091083</td>\n",
       "      <td>...</td>\n",
       "      <td>1.115080</td>\n",
       "      <td>True</td>\n",
       "      <td>41578622</td>\n",
       "      <td>28.603644</td>\n",
       "      <td>27.235459</td>\n",
       "      <td>26.298128</td>\n",
       "      <td>True</td>\n",
       "      <td>True</td>\n",
       "      <td>6.498499</td>\n",
       "      <td>profit</td>\n",
       "    </tr>\n",
       "  </tbody>\n",
       "</table>\n",
       "<p>10 rows × 22 columns</p>\n",
       "</div>"
      ],
      "text/plain": [
       "   Unnamed: 0       Open       High        Low      Close  Adj Close   \n",
       "0         NaN  18.180323  19.131887  18.068146  19.131887  13.117092  \\\n",
       "1         NaN  20.474136  20.474136  18.373730  18.656103  12.790886   \n",
       "2         NaN  18.025595  19.108679  18.025595  18.849512  12.923492   \n",
       "3         NaN  21.971111  22.203201  20.733303  20.961523  14.371512   \n",
       "4         NaN  26.156454  26.218346  25.367352  25.553022  18.161884   \n",
       "5         NaN  58.935188  60.846058  58.277603  58.548374  41.613422   \n",
       "6         NaN  58.347229  58.347229  52.699726  52.784824  37.516960   \n",
       "7         NaN  53.976215  58.037777  53.976215  57.890785  41.146038   \n",
       "8         NaN  29.227768  31.355253  29.227768  30.860128  21.933924   \n",
       "9         NaN  30.248960  30.929756  30.016872  30.751822  21.856945   \n",
       "\n",
       "         adx    adx_pos    adx_neg         obv  ...  macdsignal  signal   \n",
       "0  42.655607  49.538213  10.336113   914100854  ...    0.804423    True  \\\n",
       "1  44.884183  52.856642   7.948559   717411407  ...    0.868068    True   \n",
       "2  46.164983  46.847337  10.699233   885667392  ...    0.931193    True   \n",
       "3  39.557426  32.660708  29.012677   580520517  ...    0.992235   False   \n",
       "4  19.865585  21.531870  40.143903  3768660433  ...   -0.177864   False   \n",
       "5  29.954955  78.911531   8.135712  5711375732  ...    2.056159    True   \n",
       "6  31.820889  68.765905  19.351439  5615604588  ...    2.916322    True   \n",
       "7  33.553541  61.160193  17.211113  5725656124  ...    3.964935    True   \n",
       "8  47.458607  47.348492   8.381235  6420295994  ...    0.978651    True   \n",
       "9  49.572283  48.399216  12.462369  6359091083  ...    1.115080    True   \n",
       "\n",
       "      Volume      ma_20      ma_50     ma_200  ma_20_200  ma_50_200   \n",
       "0  169563456  16.697107  15.832846  15.848814       True      False  \\\n",
       "1  196689447  16.883678  15.943562  15.876747       True       True   \n",
       "2  168255985  17.070901  16.057521  15.906327       True       True   \n",
       "3  261983518  21.729727  20.174654  17.510383       True       True   \n",
       "4  135990591  27.384028  27.123779  23.279698       True       True   \n",
       "5   80476056  32.915236  29.958512  25.353120       True       True   \n",
       "6   95771144  34.807578  30.853662  25.626073       True       True   \n",
       "7  110051536  37.005978  31.913941  25.947115       True       True   \n",
       "8   70544961  27.969860  26.777351  26.152427       True       True   \n",
       "9   41578622  28.603644  27.235459  26.298128       True       True   \n",
       "\n",
       "   profit/loss  outcome  \n",
       "0     4.413564   profit  \n",
       "1     4.003538   profit  \n",
       "2     4.204683   profit  \n",
       "3    -2.649687     loss  \n",
       "4    -2.587795     loss  \n",
       "5    31.850378   profit  \n",
       "6    29.223902   profit  \n",
       "7    36.252335   profit  \n",
       "8     6.312826   profit  \n",
       "9     6.498499   profit  \n",
       "\n",
       "[10 rows x 22 columns]"
      ]
     },
     "execution_count": 70,
     "metadata": {},
     "output_type": "execute_result"
    }
   ],
   "source": [
    "data_raw = pd.read_csv('ml_dataset.csv')\n",
    "data_raw.head(10)"
   ]
  },
  {
   "cell_type": "code",
   "execution_count": 72,
   "metadata": {},
   "outputs": [
    {
     "data": {
      "text/plain": [
       "(68740, 22)"
      ]
     },
     "execution_count": 72,
     "metadata": {},
     "output_type": "execute_result"
    }
   ],
   "source": [
    "data_raw.shape"
   ]
  },
  {
   "cell_type": "code",
   "execution_count": 91,
   "metadata": {},
   "outputs": [
    {
     "data": {
      "text/plain": [
       "2673627.9078359604"
      ]
     },
     "execution_count": 91,
     "metadata": {},
     "output_type": "execute_result"
    }
   ],
   "source": [
    "data_raw['profit/loss'].sum()"
   ]
  },
  {
   "attachments": {},
   "cell_type": "markdown",
   "metadata": {},
   "source": [
    "<h1> EDA </h1>"
   ]
  },
  {
   "cell_type": "code",
   "execution_count": 74,
   "metadata": {},
   "outputs": [
    {
     "data": {
      "text/plain": [
       "outcome\n",
       "profit    34370\n",
       "loss      34370\n",
       "Name: count, dtype: int64"
      ]
     },
     "execution_count": 74,
     "metadata": {},
     "output_type": "execute_result"
    }
   ],
   "source": [
    "data_raw['outcome'].value_counts()"
   ]
  },
  {
   "cell_type": "code",
   "execution_count": 73,
   "metadata": {},
   "outputs": [
    {
     "data": {
      "text/plain": [
       "(68740, 22)"
      ]
     },
     "execution_count": 73,
     "metadata": {},
     "output_type": "execute_result"
    }
   ],
   "source": [
    "data_raw.shape"
   ]
  },
  {
   "cell_type": "code",
   "execution_count": 29,
   "metadata": {},
   "outputs": [
    {
     "data": {
      "text/plain": [
       "Index(['Unnamed: 0', 'Open', 'High', 'Low', 'Close', 'Adj Close', 'adx',\n",
       "       'adx_pos', 'adx_neg', 'obv', 'ulcer_index', 'macd', 'macdsignal',\n",
       "       'signal', 'Volume', 'ma_20', 'ma_50', 'ma_200', 'ma_20_200',\n",
       "       'ma_50_200', 'profit/loss', 'outcome'],\n",
       "      dtype='object')"
      ]
     },
     "execution_count": 29,
     "metadata": {},
     "output_type": "execute_result"
    }
   ],
   "source": [
    "data_raw.columns"
   ]
  },
  {
   "cell_type": "code",
   "execution_count": 30,
   "metadata": {},
   "outputs": [
    {
     "name": "stdout",
     "output_type": "stream",
     "text": [
      "<class 'pandas.core.frame.DataFrame'>\n",
      "Index: 161 entries, 0 to 68739\n",
      "Data columns (total 22 columns):\n",
      " #   Column       Non-Null Count  Dtype  \n",
      "---  ------       --------------  -----  \n",
      " 0   Unnamed: 0   0 non-null      float64\n",
      " 1   Open         161 non-null    float64\n",
      " 2   High         161 non-null    float64\n",
      " 3   Low          161 non-null    float64\n",
      " 4   Close        161 non-null    float64\n",
      " 5   Adj Close    161 non-null    float64\n",
      " 6   adx          161 non-null    float64\n",
      " 7   adx_pos      161 non-null    float64\n",
      " 8   adx_neg      161 non-null    float64\n",
      " 9   obv          161 non-null    int64  \n",
      " 10  ulcer_index  161 non-null    float64\n",
      " 11  macd         161 non-null    float64\n",
      " 12  macdsignal   161 non-null    float64\n",
      " 13  signal       161 non-null    bool   \n",
      " 14  Volume       161 non-null    int64  \n",
      " 15  ma_20        161 non-null    float64\n",
      " 16  ma_50        161 non-null    float64\n",
      " 17  ma_200       161 non-null    float64\n",
      " 18  ma_20_200    161 non-null    bool   \n",
      " 19  ma_50_200    161 non-null    bool   \n",
      " 20  profit/loss  161 non-null    float64\n",
      " 21  outcome      161 non-null    object \n",
      "dtypes: bool(3), float64(16), int64(2), object(1)\n",
      "memory usage: 25.6+ KB\n"
     ]
    }
   ],
   "source": [
    "data_raw.info()"
   ]
  },
  {
   "cell_type": "code",
   "execution_count": 75,
   "metadata": {},
   "outputs": [],
   "source": [
    "# dropping unnessary columns\n",
    "data_raw.drop(['Unnamed: 0'], axis=1, inplace=True)"
   ]
  },
  {
   "cell_type": "code",
   "execution_count": 76,
   "metadata": {},
   "outputs": [],
   "source": [
    "data_raw['signal'].replace({True: 1, False: 0}, inplace=True)\n"
   ]
  },
  {
   "cell_type": "code",
   "execution_count": 77,
   "metadata": {},
   "outputs": [],
   "source": [
    "data_raw['outcome'].replace({'profit': 1, 'loss': 0}, inplace=True)"
   ]
  },
  {
   "cell_type": "code",
   "execution_count": 78,
   "metadata": {},
   "outputs": [],
   "source": [
    "data_raw['ma_20_200'].replace({True: 1, False: 0}, inplace=True)"
   ]
  },
  {
   "cell_type": "code",
   "execution_count": 79,
   "metadata": {},
   "outputs": [],
   "source": [
    "data_raw['ma_50_200'].replace({True: 1, False: 0}, inplace=True)"
   ]
  },
  {
   "cell_type": "code",
   "execution_count": 80,
   "metadata": {},
   "outputs": [
    {
     "data": {
      "text/html": [
       "<div>\n",
       "<style scoped>\n",
       "    .dataframe tbody tr th:only-of-type {\n",
       "        vertical-align: middle;\n",
       "    }\n",
       "\n",
       "    .dataframe tbody tr th {\n",
       "        vertical-align: top;\n",
       "    }\n",
       "\n",
       "    .dataframe thead th {\n",
       "        text-align: right;\n",
       "    }\n",
       "</style>\n",
       "<table border=\"1\" class=\"dataframe\">\n",
       "  <thead>\n",
       "    <tr style=\"text-align: right;\">\n",
       "      <th></th>\n",
       "      <th>Open</th>\n",
       "      <th>High</th>\n",
       "      <th>Low</th>\n",
       "      <th>Close</th>\n",
       "      <th>Adj Close</th>\n",
       "      <th>adx</th>\n",
       "      <th>adx_pos</th>\n",
       "      <th>adx_neg</th>\n",
       "      <th>obv</th>\n",
       "      <th>ulcer_index</th>\n",
       "      <th>...</th>\n",
       "      <th>macdsignal</th>\n",
       "      <th>signal</th>\n",
       "      <th>Volume</th>\n",
       "      <th>ma_20</th>\n",
       "      <th>ma_50</th>\n",
       "      <th>ma_200</th>\n",
       "      <th>ma_20_200</th>\n",
       "      <th>ma_50_200</th>\n",
       "      <th>profit/loss</th>\n",
       "      <th>outcome</th>\n",
       "    </tr>\n",
       "  </thead>\n",
       "  <tbody>\n",
       "    <tr>\n",
       "      <th>68730</th>\n",
       "      <td>2312.000000</td>\n",
       "      <td>2337.850098</td>\n",
       "      <td>2287.100098</td>\n",
       "      <td>2319.750000</td>\n",
       "      <td>2305.370605</td>\n",
       "      <td>22.275374</td>\n",
       "      <td>33.840686</td>\n",
       "      <td>12.929183</td>\n",
       "      <td>15475166275</td>\n",
       "      <td>1.736297</td>\n",
       "      <td>...</td>\n",
       "      <td>37.132238</td>\n",
       "      <td>1</td>\n",
       "      <td>27445768</td>\n",
       "      <td>2140.384818</td>\n",
       "      <td>2031.277412</td>\n",
       "      <td>1671.379046</td>\n",
       "      <td>1</td>\n",
       "      <td>1</td>\n",
       "      <td>467.949951</td>\n",
       "      <td>1</td>\n",
       "    </tr>\n",
       "    <tr>\n",
       "      <th>68731</th>\n",
       "      <td>2325.000000</td>\n",
       "      <td>2360.000000</td>\n",
       "      <td>2282.000000</td>\n",
       "      <td>2302.550049</td>\n",
       "      <td>2288.277100</td>\n",
       "      <td>24.086341</td>\n",
       "      <td>33.383236</td>\n",
       "      <td>11.842641</td>\n",
       "      <td>15454831002</td>\n",
       "      <td>1.553065</td>\n",
       "      <td>...</td>\n",
       "      <td>44.552302</td>\n",
       "      <td>1</td>\n",
       "      <td>20335273</td>\n",
       "      <td>2155.829126</td>\n",
       "      <td>2041.915555</td>\n",
       "      <td>1677.659354</td>\n",
       "      <td>1</td>\n",
       "      <td>1</td>\n",
       "      <td>688.000000</td>\n",
       "      <td>1</td>\n",
       "    </tr>\n",
       "    <tr>\n",
       "      <th>68732</th>\n",
       "      <td>2311.949951</td>\n",
       "      <td>2325.750000</td>\n",
       "      <td>2288.149902</td>\n",
       "      <td>2318.850098</td>\n",
       "      <td>2304.476318</td>\n",
       "      <td>25.767954</td>\n",
       "      <td>31.987711</td>\n",
       "      <td>11.347581</td>\n",
       "      <td>15467373826</td>\n",
       "      <td>1.548915</td>\n",
       "      <td>...</td>\n",
       "      <td>52.152051</td>\n",
       "      <td>1</td>\n",
       "      <td>12542824</td>\n",
       "      <td>2171.354933</td>\n",
       "      <td>2052.775733</td>\n",
       "      <td>1684.039362</td>\n",
       "      <td>1</td>\n",
       "      <td>1</td>\n",
       "      <td>777.200073</td>\n",
       "      <td>1</td>\n",
       "    </tr>\n",
       "    <tr>\n",
       "      <th>68733</th>\n",
       "      <td>2101.949951</td>\n",
       "      <td>2101.949951</td>\n",
       "      <td>2018.500000</td>\n",
       "      <td>2029.099976</td>\n",
       "      <td>2016.522217</td>\n",
       "      <td>20.641296</td>\n",
       "      <td>13.744624</td>\n",
       "      <td>30.083967</td>\n",
       "      <td>15442998231</td>\n",
       "      <td>5.388871</td>\n",
       "      <td>...</td>\n",
       "      <td>-12.762735</td>\n",
       "      <td>0</td>\n",
       "      <td>17225212</td>\n",
       "      <td>2174.166555</td>\n",
       "      <td>2150.654991</td>\n",
       "      <td>1812.419164</td>\n",
       "      <td>1</td>\n",
       "      <td>1</td>\n",
       "      <td>-258.400024</td>\n",
       "      <td>0</td>\n",
       "    </tr>\n",
       "    <tr>\n",
       "      <th>68734</th>\n",
       "      <td>1894.300049</td>\n",
       "      <td>1913.099976</td>\n",
       "      <td>1830.000000</td>\n",
       "      <td>1841.949951</td>\n",
       "      <td>1830.532349</td>\n",
       "      <td>21.082995</td>\n",
       "      <td>16.976350</td>\n",
       "      <td>35.186568</td>\n",
       "      <td>15405048243</td>\n",
       "      <td>5.839922</td>\n",
       "      <td>...</td>\n",
       "      <td>-2.813662</td>\n",
       "      <td>0</td>\n",
       "      <td>20173258</td>\n",
       "      <td>1955.630592</td>\n",
       "      <td>1978.131269</td>\n",
       "      <td>1888.582344</td>\n",
       "      <td>1</td>\n",
       "      <td>1</td>\n",
       "      <td>-208.750000</td>\n",
       "      <td>0</td>\n",
       "    </tr>\n",
       "    <tr>\n",
       "      <th>68735</th>\n",
       "      <td>2487.000000</td>\n",
       "      <td>2529.899902</td>\n",
       "      <td>2475.300049</td>\n",
       "      <td>2524.449951</td>\n",
       "      <td>2516.872314</td>\n",
       "      <td>53.058583</td>\n",
       "      <td>37.509366</td>\n",
       "      <td>6.623193</td>\n",
       "      <td>15640208326</td>\n",
       "      <td>1.572820</td>\n",
       "      <td>...</td>\n",
       "      <td>83.289677</td>\n",
       "      <td>1</td>\n",
       "      <td>7095022</td>\n",
       "      <td>2387.252137</td>\n",
       "      <td>2279.462509</td>\n",
       "      <td>2103.530697</td>\n",
       "      <td>1</td>\n",
       "      <td>1</td>\n",
       "      <td>530.299927</td>\n",
       "      <td>1</td>\n",
       "    </tr>\n",
       "    <tr>\n",
       "      <th>68736</th>\n",
       "      <td>2534.000000</td>\n",
       "      <td>2564.899902</td>\n",
       "      <td>2512.800049</td>\n",
       "      <td>2548.050049</td>\n",
       "      <td>2540.401611</td>\n",
       "      <td>54.509440</td>\n",
       "      <td>39.796382</td>\n",
       "      <td>6.112654</td>\n",
       "      <td>15648531595</td>\n",
       "      <td>1.572820</td>\n",
       "      <td>...</td>\n",
       "      <td>85.706289</td>\n",
       "      <td>1</td>\n",
       "      <td>8323269</td>\n",
       "      <td>2402.566224</td>\n",
       "      <td>2289.995354</td>\n",
       "      <td>2107.953775</td>\n",
       "      <td>1</td>\n",
       "      <td>1</td>\n",
       "      <td>596.600098</td>\n",
       "      <td>1</td>\n",
       "    </tr>\n",
       "    <tr>\n",
       "      <th>68737</th>\n",
       "      <td>2570.000000</td>\n",
       "      <td>2570.000000</td>\n",
       "      <td>2520.050049</td>\n",
       "      <td>2527.850098</td>\n",
       "      <td>2520.262207</td>\n",
       "      <td>55.889748</td>\n",
       "      <td>37.615297</td>\n",
       "      <td>5.662027</td>\n",
       "      <td>15644045874</td>\n",
       "      <td>1.583578</td>\n",
       "      <td>...</td>\n",
       "      <td>87.729914</td>\n",
       "      <td>1</td>\n",
       "      <td>4485721</td>\n",
       "      <td>2414.498021</td>\n",
       "      <td>2299.322991</td>\n",
       "      <td>2112.131848</td>\n",
       "      <td>1</td>\n",
       "      <td>1</td>\n",
       "      <td>577.150146</td>\n",
       "      <td>1</td>\n",
       "    </tr>\n",
       "    <tr>\n",
       "      <th>68738</th>\n",
       "      <td>2305.000000</td>\n",
       "      <td>2339.899902</td>\n",
       "      <td>2243.399902</td>\n",
       "      <td>2255.750000</td>\n",
       "      <td>2248.979004</td>\n",
       "      <td>17.298194</td>\n",
       "      <td>17.033615</td>\n",
       "      <td>37.447366</td>\n",
       "      <td>15628405318</td>\n",
       "      <td>3.954363</td>\n",
       "      <td>...</td>\n",
       "      <td>-11.307584</td>\n",
       "      <td>0</td>\n",
       "      <td>11466725</td>\n",
       "      <td>2381.746865</td>\n",
       "      <td>2403.215785</td>\n",
       "      <td>2324.489765</td>\n",
       "      <td>1</td>\n",
       "      <td>1</td>\n",
       "      <td>-227.100098</td>\n",
       "      <td>0</td>\n",
       "    </tr>\n",
       "    <tr>\n",
       "      <th>68739</th>\n",
       "      <td>2243.000000</td>\n",
       "      <td>2254.000000</td>\n",
       "      <td>2202.199951</td>\n",
       "      <td>2225.899902</td>\n",
       "      <td>2225.899902</td>\n",
       "      <td>26.080807</td>\n",
       "      <td>12.951114</td>\n",
       "      <td>36.214813</td>\n",
       "      <td>15569970603</td>\n",
       "      <td>4.665478</td>\n",
       "      <td>...</td>\n",
       "      <td>-30.151463</td>\n",
       "      <td>0</td>\n",
       "      <td>8474595</td>\n",
       "      <td>2335.044472</td>\n",
       "      <td>2392.334727</td>\n",
       "      <td>2471.255832</td>\n",
       "      <td>0</td>\n",
       "      <td>0</td>\n",
       "      <td>-230.550049</td>\n",
       "      <td>0</td>\n",
       "    </tr>\n",
       "  </tbody>\n",
       "</table>\n",
       "<p>10 rows × 21 columns</p>\n",
       "</div>"
      ],
      "text/plain": [
       "              Open         High          Low        Close    Adj Close   \n",
       "68730  2312.000000  2337.850098  2287.100098  2319.750000  2305.370605  \\\n",
       "68731  2325.000000  2360.000000  2282.000000  2302.550049  2288.277100   \n",
       "68732  2311.949951  2325.750000  2288.149902  2318.850098  2304.476318   \n",
       "68733  2101.949951  2101.949951  2018.500000  2029.099976  2016.522217   \n",
       "68734  1894.300049  1913.099976  1830.000000  1841.949951  1830.532349   \n",
       "68735  2487.000000  2529.899902  2475.300049  2524.449951  2516.872314   \n",
       "68736  2534.000000  2564.899902  2512.800049  2548.050049  2540.401611   \n",
       "68737  2570.000000  2570.000000  2520.050049  2527.850098  2520.262207   \n",
       "68738  2305.000000  2339.899902  2243.399902  2255.750000  2248.979004   \n",
       "68739  2243.000000  2254.000000  2202.199951  2225.899902  2225.899902   \n",
       "\n",
       "             adx    adx_pos    adx_neg          obv  ulcer_index  ...   \n",
       "68730  22.275374  33.840686  12.929183  15475166275     1.736297  ...  \\\n",
       "68731  24.086341  33.383236  11.842641  15454831002     1.553065  ...   \n",
       "68732  25.767954  31.987711  11.347581  15467373826     1.548915  ...   \n",
       "68733  20.641296  13.744624  30.083967  15442998231     5.388871  ...   \n",
       "68734  21.082995  16.976350  35.186568  15405048243     5.839922  ...   \n",
       "68735  53.058583  37.509366   6.623193  15640208326     1.572820  ...   \n",
       "68736  54.509440  39.796382   6.112654  15648531595     1.572820  ...   \n",
       "68737  55.889748  37.615297   5.662027  15644045874     1.583578  ...   \n",
       "68738  17.298194  17.033615  37.447366  15628405318     3.954363  ...   \n",
       "68739  26.080807  12.951114  36.214813  15569970603     4.665478  ...   \n",
       "\n",
       "       macdsignal  signal    Volume        ma_20        ma_50       ma_200   \n",
       "68730   37.132238       1  27445768  2140.384818  2031.277412  1671.379046  \\\n",
       "68731   44.552302       1  20335273  2155.829126  2041.915555  1677.659354   \n",
       "68732   52.152051       1  12542824  2171.354933  2052.775733  1684.039362   \n",
       "68733  -12.762735       0  17225212  2174.166555  2150.654991  1812.419164   \n",
       "68734   -2.813662       0  20173258  1955.630592  1978.131269  1888.582344   \n",
       "68735   83.289677       1   7095022  2387.252137  2279.462509  2103.530697   \n",
       "68736   85.706289       1   8323269  2402.566224  2289.995354  2107.953775   \n",
       "68737   87.729914       1   4485721  2414.498021  2299.322991  2112.131848   \n",
       "68738  -11.307584       0  11466725  2381.746865  2403.215785  2324.489765   \n",
       "68739  -30.151463       0   8474595  2335.044472  2392.334727  2471.255832   \n",
       "\n",
       "       ma_20_200  ma_50_200  profit/loss  outcome  \n",
       "68730          1          1   467.949951        1  \n",
       "68731          1          1   688.000000        1  \n",
       "68732          1          1   777.200073        1  \n",
       "68733          1          1  -258.400024        0  \n",
       "68734          1          1  -208.750000        0  \n",
       "68735          1          1   530.299927        1  \n",
       "68736          1          1   596.600098        1  \n",
       "68737          1          1   577.150146        1  \n",
       "68738          1          1  -227.100098        0  \n",
       "68739          0          0  -230.550049        0  \n",
       "\n",
       "[10 rows x 21 columns]"
      ]
     },
     "execution_count": 80,
     "metadata": {},
     "output_type": "execute_result"
    }
   ],
   "source": [
    "data_raw.tail(10)"
   ]
  },
  {
   "cell_type": "code",
   "execution_count": 81,
   "metadata": {},
   "outputs": [
    {
     "data": {
      "text/plain": [
       "2673627.9078359604"
      ]
     },
     "execution_count": 81,
     "metadata": {},
     "output_type": "execute_result"
    }
   ],
   "source": [
    "data_raw[data_raw['outcome'] == 1]['profit/loss'].sum() - abs(data_raw[data_raw['outcome'] == 0]['profit/loss'].sum())"
   ]
  },
  {
   "attachments": {},
   "cell_type": "markdown",
   "metadata": {},
   "source": [
    "<h1> applying machine learning </h1s>"
   ]
  },
  {
   "cell_type": "code",
   "execution_count": 82,
   "metadata": {},
   "outputs": [],
   "source": [
    "from sklearn.model_selection import train_test_split\n",
    "from sklearn.linear_model import LogisticRegression\n",
    "from sklearn.metrics import accuracy_score, confusion_matrix, classification_report\n",
    "from sklearn.preprocessing import StandardScaler"
   ]
  },
  {
   "cell_type": "code",
   "execution_count": 83,
   "metadata": {},
   "outputs": [],
   "source": [
    "# applying standard scaler to the dataset\n",
    "#scaler = StandardScaler()\n",
    "#data_scaled = scaler.fit_transform(data_raw.drop(['outcome'], axis=1))\n"
   ]
  },
  {
   "cell_type": "code",
   "execution_count": 84,
   "metadata": {},
   "outputs": [],
   "source": [
    "# splitting the dataset into train and test\n",
    "X_train, X_test, y_train, y_test = train_test_split(data_raw.drop(['outcome','profit/loss'],axis = 1),data_raw['outcome'], test_size=0.2, random_state=42)\n"
   ]
  },
  {
   "cell_type": "code",
   "execution_count": 100,
   "metadata": {},
   "outputs": [
    {
     "data": {
      "text/plain": [
       "['Open',\n",
       " 'High',\n",
       " 'Low',\n",
       " 'Close',\n",
       " 'Adj Close',\n",
       " 'adx',\n",
       " 'adx_pos',\n",
       " 'adx_neg',\n",
       " 'obv',\n",
       " 'ulcer_index',\n",
       " 'macd',\n",
       " 'macdsignal',\n",
       " 'signal',\n",
       " 'Volume',\n",
       " 'ma_20',\n",
       " 'ma_50',\n",
       " 'ma_200',\n",
       " 'ma_20_200',\n",
       " 'ma_50_200']"
      ]
     },
     "execution_count": 100,
     "metadata": {},
     "output_type": "execute_result"
    }
   ],
   "source": [
    "list(X_train.columns)"
   ]
  },
  {
   "cell_type": "code",
   "execution_count": 101,
   "metadata": {},
   "outputs": [],
   "source": [
    "data = ['Date', 'Open', 'High', 'Low', 'Close', 'Adj Close', 'adx','adx_pos','adx_neg','obv','ulcer_index','macd','macdsignal','signal','Volume', 'ma_20','ma_50','ma_200','ma_20_200','ma_50_200']\n"
   ]
  },
  {
   "cell_type": "code",
   "execution_count": 102,
   "metadata": {},
   "outputs": [],
   "source": [
    "data_1 = ['Open',\n",
    " 'High',\n",
    " 'Low',\n",
    " 'Close',\n",
    " 'Adj Close',\n",
    " 'adx',\n",
    " 'adx_pos',\n",
    " 'adx_neg',\n",
    " 'obv',\n",
    " 'ulcer_index',\n",
    " 'macd',\n",
    " 'macdsignal',\n",
    " 'signal',\n",
    " 'Volume',\n",
    " 'ma_20',\n",
    " 'ma_50',\n",
    " 'ma_200',\n",
    " 'ma_20_200',\n",
    " 'ma_50_200']"
   ]
  },
  {
   "cell_type": "code",
   "execution_count": 105,
   "metadata": {},
   "outputs": [
    {
     "data": {
      "text/plain": [
       "[1, 2, 3, 4, 5, 6, 7, 8, 9, 10, 11, 12, 13, 14, 15, 16, 17, 18, 19]"
      ]
     },
     "execution_count": 105,
     "metadata": {},
     "output_type": "execute_result"
    }
   ],
   "source": [
    "final_list = []\n",
    "for i in data_1:\n",
    "    final_list.append(data.index(i))\n",
    "final_list"
   ]
  },
  {
   "cell_type": "code",
   "execution_count": 86,
   "metadata": {},
   "outputs": [
    {
     "name": "stdout",
     "output_type": "stream",
     "text": [
      "Accuracy Score:  0.5857579284259529\n"
     ]
    }
   ],
   "source": [
    "# applying logistic regression\n",
    "log_reg = LogisticRegression()\n",
    "log_reg.fit(X_train, y_train)\n",
    "y_pred = log_reg.predict(X_test)\n",
    "# printing accuracy score\n",
    "print('Accuracy Score: ', accuracy_score(y_test, y_pred))"
   ]
  },
  {
   "cell_type": "code",
   "execution_count": 87,
   "metadata": {},
   "outputs": [
    {
     "name": "stdout",
     "output_type": "stream",
     "text": [
      "Accuracy Score:  1.0\n"
     ]
    }
   ],
   "source": [
    "# applying other classification algorithms\n",
    "from sklearn.neighbors import KNeighborsClassifier\n",
    "from sklearn.tree import DecisionTreeClassifier\n",
    "from sklearn.ensemble import RandomForestClassifier\n",
    "\n",
    "# KNN\n",
    "knn = KNeighborsClassifier()\n",
    "knn.fit(X_train, y_train)\n",
    "y_pred = knn.predict(X_test)\n",
    "print('Accuracy Score: ', accuracy_score(y_test, y_pred))"
   ]
  },
  {
   "cell_type": "code",
   "execution_count": 88,
   "metadata": {},
   "outputs": [
    {
     "name": "stdout",
     "output_type": "stream",
     "text": [
      "Accuracy Score:  1.0\n"
     ]
    }
   ],
   "source": [
    "# using Random Forest classifier\n",
    "rf = RandomForestClassifier()\n",
    "rf.fit(X_train, y_train)\n",
    "y_pred = rf.predict(X_test)\n",
    "print('Accuracy Score: ', accuracy_score(y_test, y_pred))"
   ]
  },
  {
   "cell_type": "code",
   "execution_count": 94,
   "metadata": {},
   "outputs": [],
   "source": [
    "# saving model\n",
    "import pickle\n",
    "pickle.dump(rf, open('model.pkl', 'wb'))"
   ]
  },
  {
   "cell_type": "code",
   "execution_count": 96,
   "metadata": {},
   "outputs": [],
   "source": [
    "# calling the model\n",
    "model = pickle.load(open('model.pkl', 'rb'))"
   ]
  },
  {
   "cell_type": "code",
   "execution_count": 97,
   "metadata": {},
   "outputs": [
    {
     "data": {
      "text/plain": [
       "array([0, 1], dtype=int64)"
      ]
     },
     "execution_count": 97,
     "metadata": {},
     "output_type": "execute_result"
    }
   ],
   "source": [
    "model.predict()"
   ]
  },
  {
   "cell_type": "code",
   "execution_count": 89,
   "metadata": {},
   "outputs": [
    {
     "name": "stdout",
     "output_type": "stream",
     "text": [
      "Accuracy Score:  1.0\n"
     ]
    }
   ],
   "source": [
    "# using Decision Tree classifier\n",
    "dt = DecisionTreeClassifier()\n",
    "dt.fit(X_train, y_train)\n",
    "y_pred = dt.predict(X_test)\n",
    "print('Accuracy Score: ', accuracy_score(y_test, y_pred))"
   ]
  },
  {
   "cell_type": "code",
   "execution_count": 93,
   "metadata": {},
   "outputs": [
    {
     "name": "stdout",
     "output_type": "stream",
     "text": [
      "Cross Validation Score:  1.0\n"
     ]
    }
   ],
   "source": [
    "# applying cross validation\n",
    "from sklearn.model_selection import cross_val_score\n",
    "# applyig\n",
    "scores = cross_val_score(dt, X_train, y_train, cv=5)\n",
    "print('Cross Validation Score: ', scores.mean())"
   ]
  }
 ],
 "metadata": {
  "kernelspec": {
   "display_name": "data_science",
   "language": "python",
   "name": "python3"
  },
  "language_info": {
   "codemirror_mode": {
    "name": "ipython",
    "version": 3
   },
   "file_extension": ".py",
   "mimetype": "text/x-python",
   "name": "python",
   "nbconvert_exporter": "python",
   "pygments_lexer": "ipython3",
   "version": "3.11.2"
  },
  "orig_nbformat": 4
 },
 "nbformat": 4,
 "nbformat_minor": 2
}

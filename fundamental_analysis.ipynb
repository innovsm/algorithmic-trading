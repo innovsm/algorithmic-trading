{
 "cells": [
  {
   "cell_type": "code",
   "execution_count": 12,
   "metadata": {},
   "outputs": [],
   "source": [
    "import yfinance as yf\n",
    "import pandas as pd\n",
    "import numpy as np\n",
    "import matplotlib.pyplot as plt\n",
    "import seaborn as sns\n",
    "from urllib.request import urlopen\n",
    "from bs4 import BeautifulSoup"
   ]
  },
  {
   "cell_type": "code",
   "execution_count": 1,
   "metadata": {},
   "outputs": [
    {
     "name": "stdout",
     "output_type": "stream",
     "text": [
      "Hello World!\n"
     ]
    }
   ],
   "source": [
    "# print hello world\n",
    "print(\"Hello World!\")\n"
   ]
  },
  {
   "cell_type": "code",
   "execution_count": 178,
   "metadata": {},
   "outputs": [],
   "source": [
    "from urllib.request import urlopen\n",
    "from bs4 import BeautifulSoup\n",
    "html = urlopen(\"https://www.screener.in/company/INFY/consolidated/#quarters\")\n",
    "bsObj = BeautifulSoup(html)\n"
   ]
  },
  {
   "cell_type": "code",
   "execution_count": 179,
   "metadata": {},
   "outputs": [],
   "source": [
    "company_ratios = bsObj.find(\"div\",{\"class\", \"company-ratios\"}).find_all(\"li\") # type:ignore"
   ]
  },
  {
   "cell_type": "code",
   "execution_count": 180,
   "metadata": {},
   "outputs": [],
   "source": [
    "alfa = []"
   ]
  },
  {
   "cell_type": "code",
   "execution_count": 181,
   "metadata": {},
   "outputs": [
    {
     "name": "stdout",
     "output_type": "stream",
     "text": [
      "\n",
      "    \n",
      "    Market Cap\n",
      "    \n",
      "  \n",
      "5,46,725\n",
      "\n",
      "    \n",
      "    Current Price\n",
      "    \n",
      "  \n",
      "1,317\n",
      "\n",
      "    \n",
      "    High / Low\n",
      "    \n",
      "  \n",
      "1,673\n",
      "1,185\n",
      "\n",
      "    \n",
      "    Stock P/E\n",
      "    \n",
      "  \n",
      "22.8\n",
      "\n",
      "    \n",
      "    Book Value\n",
      "    \n",
      "  \n",
      "182\n",
      "\n",
      "    \n",
      "    Dividend Yield\n",
      "    \n",
      "  \n",
      "2.58\n",
      "\n",
      "    \n",
      "    ROCE\n",
      "    \n",
      "  \n",
      "40.7\n",
      "\n",
      "    \n",
      "    ROE\n",
      "    \n",
      "  \n",
      "31.8\n",
      "\n",
      "    \n",
      "    Face Value\n",
      "    \n",
      "  \n",
      "5.00\n"
     ]
    }
   ],
   "source": [
    "for i in company_ratios:\n",
    "    data_name = i.find(\"span\",{\"class\": \"name\"})\n",
    "    if(\"High / Low\" in data_name.text):\n",
    "        value = i.find_all(\"span\", {\"class\" : \"number\"})\n",
    "        print(data_name.text)\n",
    "        for i in value:\n",
    "            print(i.text)\n",
    "    else:\n",
    "        value = i.find(\"span\", {\"class\" : \"number\"})\n",
    "        print(data_name.text)\n",
    "        print(value.text)"
   ]
  },
  {
   "attachments": {},
   "cell_type": "markdown",
   "metadata": {},
   "source": [
    "<h1> finding company [sector and domain] </h1>"
   ]
  },
  {
   "cell_type": "code",
   "execution_count": 182,
   "metadata": {},
   "outputs": [
    {
     "name": "stdout",
     "output_type": "stream",
     "text": [
      "\n",
      "        Sector:\n",
      "        \n",
      "\n",
      "          IT - Software\n",
      "        \n",
      "\n",
      "\n",
      "\n",
      "\n",
      "        Industry:\n",
      "        \n",
      "\n",
      "          Computers - Software - Large\n",
      "        \n",
      "\n",
      "\n"
     ]
    }
   ],
   "source": [
    "data_sector  = bsObj.find(\"div\", {\"class\": \"flex flex-space-between\"})\n",
    "data_1 = data_sector.find(\"p\", {\"class\": \"sub\"}) # type: ignore\n",
    "for i in data_1: #type: ignore\n",
    "    print(i.text)"
   ]
  },
  {
   "attachments": {},
   "cell_type": "markdown",
   "metadata": {},
   "source": [
    "<h1> finding company Profit/Loss statement </h1>"
   ]
  },
  {
   "cell_type": "code",
   "execution_count": 183,
   "metadata": {},
   "outputs": [],
   "source": [
    "profit_loss = bsObj.find(\"section\", {\"id\": \"profit-loss\"}).find(\"table\",{\"class\": \"data-table responsive-text-nowrap\"}) #type: ignore\n"
   ]
  },
  {
   "cell_type": "code",
   "execution_count": 184,
   "metadata": {},
   "outputs": [],
   "source": [
    "header = []\n",
    "all_header = profit_loss.find_all(\"th\") # type: ignore\n",
    "for i in all_header:\n",
    "\n",
    "    header.append(max(i.text.split(\"\\n\")).strip())"
   ]
  },
  {
   "cell_type": "code",
   "execution_count": 185,
   "metadata": {},
   "outputs": [
    {
     "data": {
      "text/plain": [
       "['',\n",
       " 'Mar 2012',\n",
       " 'Mar 2013',\n",
       " 'Mar 2014',\n",
       " 'Mar 2015',\n",
       " 'Mar 2016',\n",
       " 'Mar 2017',\n",
       " 'Mar 2018',\n",
       " 'Mar 2019',\n",
       " 'Mar 2020',\n",
       " 'Mar 2021',\n",
       " 'Mar 2022',\n",
       " 'Mar 2023']"
      ]
     },
     "execution_count": 185,
     "metadata": {},
     "output_type": "execute_result"
    }
   ],
   "source": [
    "header"
   ]
  },
  {
   "cell_type": "code",
   "execution_count": 186,
   "metadata": {},
   "outputs": [],
   "source": [
    "# downloading the data\n",
    "final_list =[]\n",
    "table_rows = profit_loss.find_all(\"tr\") # type: ignore\n",
    "for row in table_rows:\n",
    "    table_data = row.find_all(\"td\") # type: ignore\n",
    "    temp_list = []\n",
    "    for i in table_data:\n",
    "        temp_list.append(i.text)\n",
    "    \n",
    "    final_list.append(temp_list)\n",
    "\n",
    "\n"
   ]
  },
  {
   "cell_type": "code",
   "execution_count": 187,
   "metadata": {},
   "outputs": [
    {
     "data": {
      "text/plain": [
       "[]"
      ]
     },
     "execution_count": 187,
     "metadata": {},
     "output_type": "execute_result"
    }
   ],
   "source": [
    "final_list.pop(0)"
   ]
  },
  {
   "cell_type": "code",
   "execution_count": 188,
   "metadata": {},
   "outputs": [],
   "source": [
    "target_list = final_list[2]\n",
    "dict_1 = {}\n",
    "for j in final_list:\n",
    "    temp_list = []\n",
    "    for i in j:\n",
    "        target = max(i.split(\"\\n\")).strip()\n",
    "        try:\n",
    "            target = float(target.replace(\",\",\"\"))\n",
    "            temp_list.append(target)\n",
    "        except:\n",
    "            temp_list.append(target)\n",
    "    dict_1[temp_list[0]] = temp_list[1:]\n"
   ]
  },
  {
   "cell_type": "code",
   "execution_count": 189,
   "metadata": {},
   "outputs": [],
   "source": [
    "final_frame = pd.DataFrame(dict_1)\n",
    "new_frame = final_frame.T\n",
    "new_frame.columns = header[1:]"
   ]
  },
  {
   "cell_type": "code",
   "execution_count": 190,
   "metadata": {},
   "outputs": [],
   "source": [
    "new_frame = new_frame.T\n"
   ]
  },
  {
   "cell_type": "code",
   "execution_count": 191,
   "metadata": {},
   "outputs": [],
   "source": [
    "new_frame.to_csv(\"profit_loss.csv\")"
   ]
  },
  {
   "cell_type": "code",
   "execution_count": 192,
   "metadata": {},
   "outputs": [
    {
     "data": {
      "text/plain": [
       "Index(['Mar 2012', 'Mar 2013', 'Mar 2014', 'Mar 2015', 'Mar 2016', 'Mar 2017',\n",
       "       'Mar 2018', 'Mar 2019', 'Mar 2020', 'Mar 2021', 'Mar 2022', 'Mar 2023'],\n",
       "      dtype='object')"
      ]
     },
     "execution_count": 192,
     "metadata": {},
     "output_type": "execute_result"
    }
   ],
   "source": [
    "new_frame.index"
   ]
  },
  {
   "attachments": {},
   "cell_type": "markdown",
   "metadata": {},
   "source": [
    "<h1> getting the balance sheet </h1>"
   ]
  },
  {
   "cell_type": "code",
   "execution_count": 193,
   "metadata": {},
   "outputs": [],
   "source": [
    "balance_sheet = bsObj.find(\"section\", {\"id\": \"balance-sheet\"}).find(\"table\",{\"class\": \"data-table responsive-text-nowrap\"}) #type: ignore"
   ]
  },
  {
   "cell_type": "code",
   "execution_count": 194,
   "metadata": {},
   "outputs": [],
   "source": [
    "header = []\n",
    "all_header = balance_sheet.find_all(\"th\") # type: ignore\n",
    "for i in all_header:\n",
    "\n",
    "    header.append(max(i.text.split(\"\\n\")).strip())"
   ]
  },
  {
   "cell_type": "code",
   "execution_count": 195,
   "metadata": {},
   "outputs": [
    {
     "data": {
      "text/plain": [
       "''"
      ]
     },
     "execution_count": 195,
     "metadata": {},
     "output_type": "execute_result"
    }
   ],
   "source": [
    "header.pop(0)"
   ]
  },
  {
   "cell_type": "code",
   "execution_count": 196,
   "metadata": {},
   "outputs": [],
   "source": [
    "# downloading the data\n",
    "final_list =[]\n",
    "table_rows = balance_sheet.find_all(\"tr\") # type: ignore\n",
    "for row in table_rows:\n",
    "    table_data = row.find_all(\"td\") # type: ignore\n",
    "    temp_list = []\n",
    "    for i in table_data:\n",
    "        temp_list.append(i.text)\n",
    "    \n",
    "    final_list.append(temp_list)"
   ]
  },
  {
   "cell_type": "code",
   "execution_count": 197,
   "metadata": {},
   "outputs": [
    {
     "data": {
      "text/plain": [
       "[]"
      ]
     },
     "execution_count": 197,
     "metadata": {},
     "output_type": "execute_result"
    }
   ],
   "source": [
    "final_list.pop(0)"
   ]
  },
  {
   "cell_type": "code",
   "execution_count": 198,
   "metadata": {},
   "outputs": [],
   "source": [
    "target_list = final_list[2]\n",
    "dict_1 = {}\n",
    "for j in final_list:\n",
    "    temp_list = []\n",
    "    for i in j:\n",
    "        target = max(i.split(\"\\n\")).strip()\n",
    "        try:\n",
    "            target = float(target.replace(\",\",\"\"))\n",
    "            temp_list.append(target)\n",
    "        except:\n",
    "            temp_list.append(target)\n",
    "    dict_1[temp_list[0]] = temp_list[1:]"
   ]
  },
  {
   "cell_type": "code",
   "execution_count": 199,
   "metadata": {},
   "outputs": [],
   "source": [
    "final_frame = pd.DataFrame(dict_1)\n",
    "new_frame = final_frame.T\n",
    "new_frame.columns = header"
   ]
  },
  {
   "cell_type": "code",
   "execution_count": 200,
   "metadata": {},
   "outputs": [],
   "source": [
    "new_frame = new_frame.T\n",
    "new_frame.to_csv(\"balance_sheet.csv\")\n"
   ]
  },
  {
   "cell_type": "code",
   "execution_count": 201,
   "metadata": {},
   "outputs": [
    {
     "data": {
      "text/plain": [
       "Index(['Mar 2012', 'Mar 2013', 'Mar 2014', 'Mar 2015', 'Mar 2016', 'Mar 2017',\n",
       "       'Mar 2018', 'Mar 2019', 'Mar 2020', 'Mar 2021', 'Mar 2022', 'Mar 2023'],\n",
       "      dtype='object')"
      ]
     },
     "execution_count": 201,
     "metadata": {},
     "output_type": "execute_result"
    }
   ],
   "source": [
    "new_frame.index"
   ]
  },
  {
   "attachments": {},
   "cell_type": "markdown",
   "metadata": {},
   "source": [
    "<h1> Company qutarly result </h1>"
   ]
  },
  {
   "cell_type": "code",
   "execution_count": 202,
   "metadata": {},
   "outputs": [],
   "source": [
    "qutarly_result = bsObj.find(\"section\", {\"id\": \"quarters\"}).find(\"table\",{\"class\": \"data-table responsive-text-nowrap\"}) #type: ignore"
   ]
  },
  {
   "cell_type": "code",
   "execution_count": 211,
   "metadata": {},
   "outputs": [],
   "source": [
    "header = []\n",
    "all_header = balance_sheet.find_all(\"th\") # type: ignore\n",
    "for i in all_header:\n",
    "\n",
    "    header.append(max(i.text.split(\"\\n\")).strip())"
   ]
  },
  {
   "cell_type": "code",
   "execution_count": 204,
   "metadata": {},
   "outputs": [
    {
     "data": {
      "text/plain": [
       "''"
      ]
     },
     "execution_count": 204,
     "metadata": {},
     "output_type": "execute_result"
    }
   ],
   "source": [
    "header.pop(0)"
   ]
  },
  {
   "cell_type": "code",
   "execution_count": 205,
   "metadata": {},
   "outputs": [],
   "source": [
    "# downloading the data\n",
    "final_list =[]\n",
    "table_rows = qutarly_result.find_all(\"tr\") # type: ignore\n",
    "for row in table_rows:\n",
    "    table_data = row.find_all(\"td\") # type: ignore\n",
    "    temp_list = []\n",
    "    for i in table_data:\n",
    "        temp_list.append(i.text)\n",
    "    \n",
    "    final_list.append(temp_list)"
   ]
  },
  {
   "cell_type": "code",
   "execution_count": 206,
   "metadata": {},
   "outputs": [
    {
     "data": {
      "text/plain": [
       "[]"
      ]
     },
     "execution_count": 206,
     "metadata": {},
     "output_type": "execute_result"
    }
   ],
   "source": [
    "final_list.pop(0)"
   ]
  },
  {
   "cell_type": "code",
   "execution_count": 207,
   "metadata": {},
   "outputs": [],
   "source": [
    "target_list = final_list[2]\n",
    "dict_1 = {}\n",
    "for j in final_list:\n",
    "    temp_list = []\n",
    "    for i in j:\n",
    "        target = max(i.split(\"\\n\")).strip()\n",
    "        try:\n",
    "            target = float(target.replace(\",\",\"\"))\n",
    "            temp_list.append(target)\n",
    "        except:\n",
    "            temp_list.append(target)\n",
    "    dict_1[temp_list[0]] = temp_list[1:]"
   ]
  },
  {
   "cell_type": "code",
   "execution_count": 210,
   "metadata": {},
   "outputs": [
    {
     "data": {
      "text/plain": [
       "12"
      ]
     },
     "execution_count": 210,
     "metadata": {},
     "output_type": "execute_result"
    }
   ],
   "source": [
    "len(header)"
   ]
  },
  {
   "cell_type": "code",
   "execution_count": 212,
   "metadata": {},
   "outputs": [],
   "source": [
    "final_frame = pd.DataFrame(dict_1)\n",
    "new_frame = final_frame.T\n",
    "new_frame.columns = header"
   ]
  },
  {
   "cell_type": "code",
   "execution_count": 215,
   "metadata": {},
   "outputs": [],
   "source": [
    "new_frame = new_frame.T"
   ]
  },
  {
   "cell_type": "code",
   "execution_count": 216,
   "metadata": {},
   "outputs": [],
   "source": [
    "new_frame.to_csv(\"qutarly_result.csv\")"
   ]
  },
  {
   "attachments": {},
   "cell_type": "markdown",
   "metadata": {},
   "source": [
    "<h1> calculating all the ratios </h1>"
   ]
  },
  {
   "cell_type": "code",
   "execution_count": 217,
   "metadata": {},
   "outputs": [],
   "source": [
    "data_balace_sheet = pd.read_csv(\"balance_sheet.csv\", index_col=0)\n",
    "data_profit_loss = pd.read_csv(\"profit_loss.csv\", index_col=0)\n",
    "data_qutarly_result = pd.read_csv(\"qutarly_result.csv\", index_col=0)"
   ]
  },
  {
   "cell_type": "code",
   "execution_count": 227,
   "metadata": {},
   "outputs": [
    {
     "data": {
      "text/plain": [
       "Index(['Sales +', 'Expenses +', 'Operating Profit', 'OPM %', 'Other Income +',\n",
       "       'Interest', 'Depreciation', 'Profit before tax', 'Tax %', 'Net Profit',\n",
       "       'EPS in Rs', 'Dividend Payout %'],\n",
       "      dtype='object')"
      ]
     },
     "execution_count": 227,
     "metadata": {},
     "output_type": "execute_result"
    }
   ],
   "source": [
    "data_profit_loss.columns"
   ]
  },
  {
   "cell_type": "code",
   "execution_count": 228,
   "metadata": {},
   "outputs": [
    {
     "data": {
      "text/plain": [
       "Index(['Sales +', 'Expenses +', 'Operating Profit', 'OPM %', 'Other Income +',\n",
       "       'Interest', 'Depreciation', 'Profit before tax', 'Tax %', 'Net Profit',\n",
       "       'EPS in Rs', 'Raw PDF'],\n",
       "      dtype='object')"
      ]
     },
     "execution_count": 228,
     "metadata": {},
     "output_type": "execute_result"
    }
   ],
   "source": [
    "data_qutarly_result.columns"
   ]
  },
  {
   "cell_type": "code",
   "execution_count": 236,
   "metadata": {},
   "outputs": [
    {
     "data": {
      "text/plain": [
       "(Mar 2012     8332.0\n",
       " Mar 2013     9429.0\n",
       " Mar 2014    10656.0\n",
       " Mar 2015    12372.0\n",
       " Mar 2016    13489.0\n",
       " Mar 2017    14353.0\n",
       " Mar 2018    16029.0\n",
       " Mar 2019    15410.0\n",
       " Mar 2020    16639.0\n",
       " Mar 2021    19423.0\n",
       " Mar 2022    22146.0\n",
       " Mar 2023    24108.0\n",
       " Name: Net Profit, dtype: float64,\n",
       " NaN         4335.0\n",
       " Mar 2012    4272.0\n",
       " Mar 2013    4858.0\n",
       " Mar 2014    5215.0\n",
       " Mar 2015    5078.0\n",
       " Mar 2016    5201.0\n",
       " Mar 2017    5428.0\n",
       " Mar 2018    5822.0\n",
       " Mar 2019    5695.0\n",
       " Mar 2020    5362.0\n",
       " Mar 2021    6026.0\n",
       " Mar 2022    6586.0\n",
       " Mar 2023    6134.0\n",
       " Name: Net Profit, dtype: float64)"
      ]
     },
     "execution_count": 236,
     "metadata": {},
     "output_type": "execute_result"
    }
   ],
   "source": [
    "data_profit_loss['Net Profit'],data_qutarly_result['Net Profit']"
   ]
  },
  {
   "attachments": {},
   "cell_type": "markdown",
   "metadata": {},
   "source": [
    "<h1> getting financial ratios </h1>"
   ]
  },
  {
   "cell_type": "code",
   "execution_count": 24,
   "metadata": {},
   "outputs": [],
   "source": [
    "from urllib.request import urlopen\n",
    "from bs4 import BeautifulSoup\n",
    "html = urlopen(\"https://stock-financials.valuestocks.in/en/reliance-ratio-analysis\")\n",
    "bsObj = BeautifulSoup(html)"
   ]
  },
  {
   "cell_type": "code",
   "execution_count": 25,
   "metadata": {},
   "outputs": [
    {
     "data": {
      "text/plain": [
       "['\\n\\nMar 2022\\nMar 2021\\nMar 2020\\nMar 2019\\nMar 2018\\nMar 2017\\n',\n",
       " '\\nOperational\\xa0&\\xa0Financial\\xa0Ratios\\n',\n",
       " '\\nEarnings\\xa0Per\\xa0Share\\xa0(Rs)\\n89.73\\n76.23\\n61.50\\n66.17\\n60.34\\n50.05\\n',\n",
       " '\\nCash\\xa0EPS(Rs)\\n143.92\\n123.81\\n96.85\\n101.41\\n88.20\\n69.61\\n',\n",
       " '\\nDividend\\xa0Per\\xa0Share(Rs)\\n8.00\\n7.00\\n6.50\\n6.50\\n6.00\\n11.00\\n',\n",
       " '\\nBook\\xa0NAV/Share(Rs)\\n1,151.59\\n1,023.42\\n708.55\\n653.23\\n495.57\\n888.20\\n',\n",
       " '\\nTax\\xa0Rate(%)\\n19.43\\n3.13\\n25.66\\n27.92\\n27.03\\n25.41\\n',\n",
       " '\\nMargin\\xa0Ratios\\n',\n",
       " '\\nCore\\xa0EBITDA\\xa0Margin(%)\\n13.93\\n14.82\\n13.47\\n13.46\\n14.90\\n13.99\\n',\n",
       " '\\nEBIT\\xa0Margin(%)\\n12.42\\n14.12\\n11.44\\n11.46\\n13.33\\n13.32\\n',\n",
       " '\\nPre\\xa0Tax\\xa0Margin(%)\\n10.58\\n10.19\\n8.11\\n8.82\\n11.46\\n12.16\\n',\n",
       " '\\nPAT\\xa0Margin\\xa0(%)\\n8.52\\n9.87\\n6.03\\n6.36\\n8.36\\n9.07\\n',\n",
       " '\\nCash\\xa0Profit\\xa0Margin\\xa0(%)\\n12.28\\n14.80\\n9.39\\n9.70\\n12.24\\n12.60\\n',\n",
       " '\\nPerformance\\xa0Ratios\\n',\n",
       " '\\nROA(%)\\n4.79\\n4.29\\n3.68\\n4.39\\n4.75\\n4.59\\n',\n",
       " '\\nROE(%)\\n9.39\\n9.60\\n9.51\\n11.68\\n12.95\\n12.13\\n',\n",
       " '\\nROCE(%)\\n9.86\\n8.76\\n10.34\\n12.05\\n11.80\\n10.09\\n',\n",
       " '\\nAsset\\xa0Turnover(x)\\n0.56\\n0.43\\n0.61\\n0.69\\n0.57\\n0.51\\n',\n",
       " '\\nSales/Fixed\\xa0Asset(x)\\n0.96\\n0.71\\n0.98\\n1.06\\n0.91\\n0.95\\n',\n",
       " '\\nWorking\\xa0Capital/Sales(x)\\n20.67\\n5.65\\n-4.27\\n-7.33\\n-3.31\\n-3.73\\n',\n",
       " '\\nEfficiency\\xa0Ratios\\n',\n",
       " '\\nFixed\\xa0Capital/Sales(x)\\n1.05\\n1.41\\n1.02\\n0.94\\n1.09\\n1.06\\n',\n",
       " '\\nReceivable\\xa0days\\n9.82\\n13.09\\n13.76\\n13.91\\n10.90\\n6.99\\n',\n",
       " '\\nInventory\\xa0Days\\n43.61\\n52.65\\n39.12\\n37.48\\n46.52\\n52.75\\n',\n",
       " '\\nPayable\\xa0days\\n103.08\\n128.15\\n92.33\\n99.50\\n125.22\\n117.54\\n',\n",
       " '\\nValuation\\xa0Parameters\\n',\n",
       " '\\nPE\\xa0Ratio(x)\\n29.35\\n26.28\\n17.75\\n20.21\\n14.36\\n6.47\\n',\n",
       " '\\nPrice/Cash\\xa0EPS(x)\\n18.30\\n16.18\\n11.38\\n13.31\\n9.92\\n9.39\\n',\n",
       " '\\nPrice/Book(x)\\n2.29\\n1.96\\n1.57\\n2.09\\n1.78\\n1.49\\n',\n",
       " '\\nDivident\\xa0Yield(%)\\n0.30\\n0.35\\n0.58\\n0.48\\n0.68\\n0.83\\n',\n",
       " '\\nEV/Net\\xa0Sales(x)\\n2.87\\n3.27\\n1.69\\n1.91\\n1.88\\n1.91\\n',\n",
       " '\\nEV/Core\\xa0EBITDA(x)\\n16.04\\n15.72\\n9.89\\n11.73\\n9.96\\n10.51\\n',\n",
       " '\\nEV/EBIT(x)\\n20.44\\n20.04\\n13.38\\n15.16\\n12.86\\n13.29\\n',\n",
       " '\\nEV/CE(x)\\n1.34\\n1.16\\n0.87\\n1.09\\n0.91\\n0.83\\n',\n",
       " '\\nM\\xa0Cap\\xa0/\\xa0Sales\\n2.55\\n2.77\\n1.18\\n1.42\\n1.33\\n1.28\\n',\n",
       " '\\nGrowth\\xa0Ratio\\n',\n",
       " '\\nNet\\xa0Sales\\xa0Growth(%)\\n49.91\\n-21.86\\n4.98\\n45.33\\n28.26\\n11.45\\n',\n",
       " '\\nCore\\xa0EBITDA\\xa0Growth(%)\\n29.20\\n-5.00\\n10.39\\n24.86\\n33.23\\n3.50\\n',\n",
       " '\\nEBIT\\xa0Growth(%)\\n29.31\\n0.81\\n5.46\\n24.73\\n30.52\\n4.26\\n',\n",
       " '\\nPAT\\xa0Growth(%)\\n26.95\\n33.82\\n0.10\\n10.31\\n20.31\\n1.07\\n',\n",
       " '\\nEPS\\xa0Growth(%)\\n17.72\\n23.95\\n-7.07\\n9.66\\n20.57\\n0.15\\n',\n",
       " '\\nFinancial\\xa0Stability\\xa0Ratios\\n',\n",
       " '\\nTotal\\xa0Debt/Equity(x)\\n0.34\\n0.38\\n0.75\\n0.75\\n0.75\\n0.75\\n',\n",
       " '\\nCurrent\\xa0Ratio(x)\\n1.12\\n1.34\\n0.63\\n0.73\\n0.59\\n0.62\\n',\n",
       " '\\nQuick\\xa0Ratio(x)\\n0.78\\n1.05\\n0.45\\n0.52\\n0.39\\n0.42\\n',\n",
       " '\\nInterest\\xa0Cover(x)\\n6.75\\n3.59\\n3.43\\n4.34\\n7.13\\n11.43\\n',\n",
       " '\\nTotal\\xa0Debt/Mcap(x)\\n0.15\\n0.19\\n0.48\\n0.33\\n0.39\\n0.46\\n']"
      ]
     },
     "execution_count": 25,
     "metadata": {},
     "output_type": "execute_result"
    }
   ],
   "source": [
    "target_table = bsObj.find(\"table\", {\"id\": \"tblStandalone\"})\n",
    "ratio_list = []\n",
    "for i in target_table.find_all(\"tr\"):#type: ignore\n",
    "    ratio_list.append(i.text)\n",
    "\n",
    "ratio_list"
   ]
  },
  {
   "cell_type": "code",
   "execution_count": 35,
   "metadata": {},
   "outputs": [
    {
     "data": {
      "text/plain": [
       "['',\n",
       " 'Earnings\\xa0Per\\xa0Share\\xa0(Rs)',\n",
       " '89.73',\n",
       " '76.23',\n",
       " '61.50',\n",
       " '66.17',\n",
       " '60.34',\n",
       " '50.05',\n",
       " '']"
      ]
     },
     "execution_count": 35,
     "metadata": {},
     "output_type": "execute_result"
    }
   ],
   "source": [
    "ratio_list[1].split(\"\\n\")"
   ]
  },
  {
   "cell_type": "code",
   "execution_count": 36,
   "metadata": {},
   "outputs": [],
   "source": [
    "refined_list =[]\n",
    "for i in ratio_list:\n",
    "    temp_string = (i.split(\"\\n\"))\n",
    "\n",
    "    temp_list = []\n",
    "    while(len(temp_string) > 0):\n",
    "        target_string = temp_string[0]\n",
    "        if(target_string == ''):\n",
    "            temp_string.pop(0)\n",
    "        else:\n",
    "            target_string = target_string.replace('\\xa0', '')\n",
    "            try:\n",
    "                target_string = float(target_string)\n",
    "            except:\n",
    "                target_string = target_string\n",
    "            \n",
    "            temp_string.pop(0)\n",
    "        \n",
    "        temp_list.append(target_string)\n",
    "\n",
    "    refined_list.append(temp_list)\n",
    "    "
   ]
  },
  {
   "cell_type": "code",
   "execution_count": 38,
   "metadata": {},
   "outputs": [],
   "source": [
    "for i in range(len(refined_list)):\n",
    "    if(i == 0):\n",
    "        refined_list[i].pop(0)\n",
    "        refined_list[i].pop(0)\n",
    "        refined_list[i].pop()\n",
    "    else:\n",
    "        refined_list[i].pop(0)\n",
    "        refined_list[i].pop()"
   ]
  },
  {
   "cell_type": "code",
   "execution_count": 55,
   "metadata": {},
   "outputs": [],
   "source": [
    "# creating dataframe\n",
    "dataframe_1 = pd.DataFrame()\n",
    "\n",
    "for i in range(len(refined_list[1:])):\n",
    "    if(len(refined_list[i]) == 1 or len(refined_list[i]) == 6):\n",
    "        pass\n",
    "    else:\n",
    "        dataframe_1[refined_list[i][0]] = refined_list[i][1:]\n",
    "\n",
    "\n"
   ]
  },
  {
   "cell_type": "code",
   "execution_count": 58,
   "metadata": {},
   "outputs": [
    {
     "data": {
      "text/plain": [
       "['Mar 2022', 'Mar 2021', 'Mar 2020', 'Mar 2019', 'Mar 2018', 'Mar 2017']"
      ]
     },
     "execution_count": 58,
     "metadata": {},
     "output_type": "execute_result"
    }
   ],
   "source": [
    "refined_list[0]"
   ]
  },
  {
   "cell_type": "code",
   "execution_count": 59,
   "metadata": {},
   "outputs": [],
   "source": [
    "dataframe_1.index = refined_list[0]"
   ]
  },
  {
   "cell_type": "code",
   "execution_count": 61,
   "metadata": {},
   "outputs": [
    {
     "name": "stdout",
     "output_type": "stream",
     "text": [
      "<class 'pandas.core.frame.DataFrame'>\n",
      "Index: 6 entries, Mar 2022 to Mar 2017\n",
      "Data columns (total 38 columns):\n",
      " #   Column                   Non-Null Count  Dtype  \n",
      "---  ------                   --------------  -----  \n",
      " 0   EarningsPerShare(Rs)     6 non-null      float64\n",
      " 1   CashEPS(Rs)              6 non-null      float64\n",
      " 2   DividendPerShare(Rs)     6 non-null      float64\n",
      " 3   BookNAV/Share(Rs)        6 non-null      object \n",
      " 4   TaxRate(%)               6 non-null      float64\n",
      " 5   CoreEBITDAMargin(%)      6 non-null      float64\n",
      " 6   EBITMargin(%)            6 non-null      float64\n",
      " 7   PreTaxMargin(%)          6 non-null      float64\n",
      " 8   PATMargin(%)             6 non-null      float64\n",
      " 9   CashProfitMargin(%)      6 non-null      float64\n",
      " 10  ROA(%)                   6 non-null      float64\n",
      " 11  ROE(%)                   6 non-null      float64\n",
      " 12  ROCE(%)                  6 non-null      float64\n",
      " 13  AssetTurnover(x)         6 non-null      float64\n",
      " 14  Sales/FixedAsset(x)      6 non-null      float64\n",
      " 15  WorkingCapital/Sales(x)  6 non-null      float64\n",
      " 16  FixedCapital/Sales(x)    6 non-null      float64\n",
      " 17  Receivabledays           6 non-null      float64\n",
      " 18  InventoryDays            6 non-null      float64\n",
      " 19  Payabledays              6 non-null      float64\n",
      " 20  PERatio(x)               6 non-null      float64\n",
      " 21  Price/CashEPS(x)         6 non-null      float64\n",
      " 22  Price/Book(x)            6 non-null      float64\n",
      " 23  DividentYield(%)         6 non-null      float64\n",
      " 24  EV/NetSales(x)           6 non-null      float64\n",
      " 25  EV/CoreEBITDA(x)         6 non-null      float64\n",
      " 26  EV/EBIT(x)               6 non-null      float64\n",
      " 27  EV/CE(x)                 6 non-null      float64\n",
      " 28  MCap/Sales               6 non-null      float64\n",
      " 29  NetSalesGrowth(%)        6 non-null      float64\n",
      " 30  CoreEBITDAGrowth(%)      6 non-null      float64\n",
      " 31  EBITGrowth(%)            6 non-null      float64\n",
      " 32  PATGrowth(%)             6 non-null      float64\n",
      " 33  EPSGrowth(%)             6 non-null      float64\n",
      " 34  TotalDebt/Equity(x)      6 non-null      float64\n",
      " 35  CurrentRatio(x)          6 non-null      float64\n",
      " 36  QuickRatio(x)            6 non-null      float64\n",
      " 37  InterestCover(x)         6 non-null      float64\n",
      "dtypes: float64(37), object(1)\n",
      "memory usage: 1.8+ KB\n"
     ]
    }
   ],
   "source": [
    "dataframe_1.info()"
   ]
  },
  {
   "cell_type": "code",
   "execution_count": 9,
   "metadata": {},
   "outputs": [],
   "source": [
    "def book_value_refined(x):\n",
    "    try:\n",
    "        return float(x.replace(\",\",\"\"))\n",
    "    except:\n",
    "        return x"
   ]
  },
  {
   "cell_type": "code",
   "execution_count": 10,
   "metadata": {},
   "outputs": [],
   "source": [
    "def ratios(ticker):\n",
    "    html = urlopen(\"https://stock-financials.valuestocks.in/en/{}-ratio-analysis\".format(ticker))\n",
    "    bsObj = BeautifulSoup(html)\n",
    "    target_table = bsObj.find(\"table\", {\"id\": \"tblStandalone\"})\n",
    "    ratio_list = []\n",
    "    for i in target_table.find_all(\"tr\"):#type: ignore\n",
    "        ratio_list.append(i.text)\n",
    "    \n",
    "    refined_list =[]\n",
    "    for i in ratio_list:\n",
    "        temp_string = (i.split(\"\\n\"))\n",
    "        temp_list = []\n",
    "        while(len(temp_string) > 0):\n",
    "            target_string = temp_string[0]\n",
    "            if(target_string == ''):\n",
    "                temp_string.pop(0)\n",
    "            else:\n",
    "                target_string = target_string.replace('\\xa0', '')\n",
    "                try:\n",
    "                    target_string = float(target_string)\n",
    "                except:\n",
    "                    target_string = target_string\n",
    "                temp_string.pop(0)\n",
    "            temp_list.append(target_string)\n",
    "        \n",
    "        refined_list.append(temp_list)\n",
    "    for  ii in range(len(refined_list)):\n",
    "        if(ii == 0):\n",
    "            refined_list[ii].pop(0)\n",
    "            refined_list[ii].pop(0)\n",
    "            refined_list[ii].pop()\n",
    "        else:\n",
    "            refined_list[ii].pop(0)\n",
    "            refined_list[ii].pop()\n",
    "    #print(refined_list)\n",
    "    dataframe_1 = pd.DataFrame()\n",
    "    for i in range(len(refined_list[1:])):\n",
    "        if(len(refined_list[i]) == 1 or len(refined_list[i]) == 6):\n",
    "            pass\n",
    "        else:\n",
    "            dataframe_1[refined_list[i][0]] = refined_list[i][1:]\n",
    "    dataframe_1['BookNAV/Share(Rs)'] = dataframe_1['BookNAV/Share(Rs)'].apply(book_value_refined)\n",
    "    dataframe_1.index = pd.to_datetime(refined_list[0])\n",
    "    return dataframe_1\n",
    "            \n"
   ]
  },
  {
   "cell_type": "code",
   "execution_count": 13,
   "metadata": {},
   "outputs": [],
   "source": [
    "reliace_ratio = ratios(\"reliance\")\n"
   ]
  },
  {
   "cell_type": "code",
   "execution_count": 14,
   "metadata": {},
   "outputs": [
    {
     "name": "stdout",
     "output_type": "stream",
     "text": [
      "<class 'pandas.core.frame.DataFrame'>\n",
      "DatetimeIndex: 6 entries, 2022-03-01 to 2017-03-01\n",
      "Data columns (total 38 columns):\n",
      " #   Column                   Non-Null Count  Dtype  \n",
      "---  ------                   --------------  -----  \n",
      " 0   EarningsPerShare(Rs)     6 non-null      float64\n",
      " 1   CashEPS(Rs)              6 non-null      float64\n",
      " 2   DividendPerShare(Rs)     6 non-null      float64\n",
      " 3   BookNAV/Share(Rs)        6 non-null      float64\n",
      " 4   TaxRate(%)               6 non-null      float64\n",
      " 5   CoreEBITDAMargin(%)      6 non-null      float64\n",
      " 6   EBITMargin(%)            6 non-null      float64\n",
      " 7   PreTaxMargin(%)          6 non-null      float64\n",
      " 8   PATMargin(%)             6 non-null      float64\n",
      " 9   CashProfitMargin(%)      6 non-null      float64\n",
      " 10  ROA(%)                   6 non-null      float64\n",
      " 11  ROE(%)                   6 non-null      float64\n",
      " 12  ROCE(%)                  6 non-null      float64\n",
      " 13  AssetTurnover(x)         6 non-null      float64\n",
      " 14  Sales/FixedAsset(x)      6 non-null      float64\n",
      " 15  WorkingCapital/Sales(x)  6 non-null      float64\n",
      " 16  FixedCapital/Sales(x)    6 non-null      float64\n",
      " 17  Receivabledays           6 non-null      float64\n",
      " 18  InventoryDays            6 non-null      float64\n",
      " 19  Payabledays              6 non-null      float64\n",
      " 20  PERatio(x)               6 non-null      float64\n",
      " 21  Price/CashEPS(x)         6 non-null      float64\n",
      " 22  Price/Book(x)            6 non-null      float64\n",
      " 23  DividentYield(%)         6 non-null      float64\n",
      " 24  EV/NetSales(x)           6 non-null      float64\n",
      " 25  EV/CoreEBITDA(x)         6 non-null      float64\n",
      " 26  EV/EBIT(x)               6 non-null      float64\n",
      " 27  EV/CE(x)                 6 non-null      float64\n",
      " 28  MCap/Sales               6 non-null      float64\n",
      " 29  NetSalesGrowth(%)        6 non-null      float64\n",
      " 30  CoreEBITDAGrowth(%)      6 non-null      float64\n",
      " 31  EBITGrowth(%)            6 non-null      float64\n",
      " 32  PATGrowth(%)             6 non-null      float64\n",
      " 33  EPSGrowth(%)             6 non-null      float64\n",
      " 34  TotalDebt/Equity(x)      6 non-null      float64\n",
      " 35  CurrentRatio(x)          6 non-null      float64\n",
      " 36  QuickRatio(x)            6 non-null      float64\n",
      " 37  InterestCover(x)         6 non-null      float64\n",
      "dtypes: float64(38)\n",
      "memory usage: 1.8 KB\n"
     ]
    }
   ],
   "source": [
    "reliace_ratio.info()"
   ]
  },
  {
   "cell_type": "code",
   "execution_count": 15,
   "metadata": {},
   "outputs": [
    {
     "data": {
      "text/html": [
       "<div>\n",
       "<style scoped>\n",
       "    .dataframe tbody tr th:only-of-type {\n",
       "        vertical-align: middle;\n",
       "    }\n",
       "\n",
       "    .dataframe tbody tr th {\n",
       "        vertical-align: top;\n",
       "    }\n",
       "\n",
       "    .dataframe thead th {\n",
       "        text-align: right;\n",
       "    }\n",
       "</style>\n",
       "<table border=\"1\" class=\"dataframe\">\n",
       "  <thead>\n",
       "    <tr style=\"text-align: right;\">\n",
       "      <th></th>\n",
       "      <th>EarningsPerShare(Rs)</th>\n",
       "      <th>CashEPS(Rs)</th>\n",
       "      <th>DividendPerShare(Rs)</th>\n",
       "      <th>BookNAV/Share(Rs)</th>\n",
       "      <th>TaxRate(%)</th>\n",
       "      <th>CoreEBITDAMargin(%)</th>\n",
       "      <th>EBITMargin(%)</th>\n",
       "      <th>PreTaxMargin(%)</th>\n",
       "      <th>PATMargin(%)</th>\n",
       "      <th>CashProfitMargin(%)</th>\n",
       "      <th>...</th>\n",
       "      <th>MCap/Sales</th>\n",
       "      <th>NetSalesGrowth(%)</th>\n",
       "      <th>CoreEBITDAGrowth(%)</th>\n",
       "      <th>EBITGrowth(%)</th>\n",
       "      <th>PATGrowth(%)</th>\n",
       "      <th>EPSGrowth(%)</th>\n",
       "      <th>TotalDebt/Equity(x)</th>\n",
       "      <th>CurrentRatio(x)</th>\n",
       "      <th>QuickRatio(x)</th>\n",
       "      <th>InterestCover(x)</th>\n",
       "    </tr>\n",
       "  </thead>\n",
       "  <tbody>\n",
       "    <tr>\n",
       "      <th>2022-03-01</th>\n",
       "      <td>89.73</td>\n",
       "      <td>143.92</td>\n",
       "      <td>8.0</td>\n",
       "      <td>1151.59</td>\n",
       "      <td>19.43</td>\n",
       "      <td>13.93</td>\n",
       "      <td>12.42</td>\n",
       "      <td>10.58</td>\n",
       "      <td>8.52</td>\n",
       "      <td>12.28</td>\n",
       "      <td>...</td>\n",
       "      <td>2.55</td>\n",
       "      <td>49.91</td>\n",
       "      <td>29.20</td>\n",
       "      <td>29.31</td>\n",
       "      <td>26.95</td>\n",
       "      <td>17.72</td>\n",
       "      <td>0.34</td>\n",
       "      <td>1.12</td>\n",
       "      <td>0.78</td>\n",
       "      <td>6.75</td>\n",
       "    </tr>\n",
       "    <tr>\n",
       "      <th>2021-03-01</th>\n",
       "      <td>76.23</td>\n",
       "      <td>123.81</td>\n",
       "      <td>7.0</td>\n",
       "      <td>1023.42</td>\n",
       "      <td>3.13</td>\n",
       "      <td>14.82</td>\n",
       "      <td>14.12</td>\n",
       "      <td>10.19</td>\n",
       "      <td>9.87</td>\n",
       "      <td>14.80</td>\n",
       "      <td>...</td>\n",
       "      <td>2.77</td>\n",
       "      <td>-21.86</td>\n",
       "      <td>-5.00</td>\n",
       "      <td>0.81</td>\n",
       "      <td>33.82</td>\n",
       "      <td>23.95</td>\n",
       "      <td>0.38</td>\n",
       "      <td>1.34</td>\n",
       "      <td>1.05</td>\n",
       "      <td>3.59</td>\n",
       "    </tr>\n",
       "    <tr>\n",
       "      <th>2020-03-01</th>\n",
       "      <td>61.50</td>\n",
       "      <td>96.85</td>\n",
       "      <td>6.5</td>\n",
       "      <td>708.55</td>\n",
       "      <td>25.66</td>\n",
       "      <td>13.47</td>\n",
       "      <td>11.44</td>\n",
       "      <td>8.11</td>\n",
       "      <td>6.03</td>\n",
       "      <td>9.39</td>\n",
       "      <td>...</td>\n",
       "      <td>1.18</td>\n",
       "      <td>4.98</td>\n",
       "      <td>10.39</td>\n",
       "      <td>5.46</td>\n",
       "      <td>0.10</td>\n",
       "      <td>-7.07</td>\n",
       "      <td>0.75</td>\n",
       "      <td>0.63</td>\n",
       "      <td>0.45</td>\n",
       "      <td>3.43</td>\n",
       "    </tr>\n",
       "    <tr>\n",
       "      <th>2019-03-01</th>\n",
       "      <td>66.17</td>\n",
       "      <td>101.41</td>\n",
       "      <td>6.5</td>\n",
       "      <td>653.23</td>\n",
       "      <td>27.92</td>\n",
       "      <td>13.46</td>\n",
       "      <td>11.46</td>\n",
       "      <td>8.82</td>\n",
       "      <td>6.36</td>\n",
       "      <td>9.70</td>\n",
       "      <td>...</td>\n",
       "      <td>1.42</td>\n",
       "      <td>45.33</td>\n",
       "      <td>24.86</td>\n",
       "      <td>24.73</td>\n",
       "      <td>10.31</td>\n",
       "      <td>9.66</td>\n",
       "      <td>0.75</td>\n",
       "      <td>0.73</td>\n",
       "      <td>0.52</td>\n",
       "      <td>4.34</td>\n",
       "    </tr>\n",
       "    <tr>\n",
       "      <th>2018-03-01</th>\n",
       "      <td>60.34</td>\n",
       "      <td>88.20</td>\n",
       "      <td>6.0</td>\n",
       "      <td>495.57</td>\n",
       "      <td>27.03</td>\n",
       "      <td>14.90</td>\n",
       "      <td>13.33</td>\n",
       "      <td>11.46</td>\n",
       "      <td>8.36</td>\n",
       "      <td>12.24</td>\n",
       "      <td>...</td>\n",
       "      <td>1.33</td>\n",
       "      <td>28.26</td>\n",
       "      <td>33.23</td>\n",
       "      <td>30.52</td>\n",
       "      <td>20.31</td>\n",
       "      <td>20.57</td>\n",
       "      <td>0.75</td>\n",
       "      <td>0.59</td>\n",
       "      <td>0.39</td>\n",
       "      <td>7.13</td>\n",
       "    </tr>\n",
       "    <tr>\n",
       "      <th>2017-03-01</th>\n",
       "      <td>50.05</td>\n",
       "      <td>69.61</td>\n",
       "      <td>11.0</td>\n",
       "      <td>888.20</td>\n",
       "      <td>25.41</td>\n",
       "      <td>13.99</td>\n",
       "      <td>13.32</td>\n",
       "      <td>12.16</td>\n",
       "      <td>9.07</td>\n",
       "      <td>12.60</td>\n",
       "      <td>...</td>\n",
       "      <td>1.28</td>\n",
       "      <td>11.45</td>\n",
       "      <td>3.50</td>\n",
       "      <td>4.26</td>\n",
       "      <td>1.07</td>\n",
       "      <td>0.15</td>\n",
       "      <td>0.75</td>\n",
       "      <td>0.62</td>\n",
       "      <td>0.42</td>\n",
       "      <td>11.43</td>\n",
       "    </tr>\n",
       "  </tbody>\n",
       "</table>\n",
       "<p>6 rows × 38 columns</p>\n",
       "</div>"
      ],
      "text/plain": [
       "            EarningsPerShare(Rs)  CashEPS(Rs)  DividendPerShare(Rs)  \\\n",
       "2022-03-01                 89.73       143.92                   8.0   \n",
       "2021-03-01                 76.23       123.81                   7.0   \n",
       "2020-03-01                 61.50        96.85                   6.5   \n",
       "2019-03-01                 66.17       101.41                   6.5   \n",
       "2018-03-01                 60.34        88.20                   6.0   \n",
       "2017-03-01                 50.05        69.61                  11.0   \n",
       "\n",
       "            BookNAV/Share(Rs)  TaxRate(%)  CoreEBITDAMargin(%)  EBITMargin(%)  \\\n",
       "2022-03-01            1151.59       19.43                13.93          12.42   \n",
       "2021-03-01            1023.42        3.13                14.82          14.12   \n",
       "2020-03-01             708.55       25.66                13.47          11.44   \n",
       "2019-03-01             653.23       27.92                13.46          11.46   \n",
       "2018-03-01             495.57       27.03                14.90          13.33   \n",
       "2017-03-01             888.20       25.41                13.99          13.32   \n",
       "\n",
       "            PreTaxMargin(%)  PATMargin(%)  CashProfitMargin(%)  ...  \\\n",
       "2022-03-01            10.58          8.52                12.28  ...   \n",
       "2021-03-01            10.19          9.87                14.80  ...   \n",
       "2020-03-01             8.11          6.03                 9.39  ...   \n",
       "2019-03-01             8.82          6.36                 9.70  ...   \n",
       "2018-03-01            11.46          8.36                12.24  ...   \n",
       "2017-03-01            12.16          9.07                12.60  ...   \n",
       "\n",
       "            MCap/Sales  NetSalesGrowth(%)  CoreEBITDAGrowth(%)  EBITGrowth(%)  \\\n",
       "2022-03-01        2.55              49.91                29.20          29.31   \n",
       "2021-03-01        2.77             -21.86                -5.00           0.81   \n",
       "2020-03-01        1.18               4.98                10.39           5.46   \n",
       "2019-03-01        1.42              45.33                24.86          24.73   \n",
       "2018-03-01        1.33              28.26                33.23          30.52   \n",
       "2017-03-01        1.28              11.45                 3.50           4.26   \n",
       "\n",
       "            PATGrowth(%)  EPSGrowth(%)  TotalDebt/Equity(x)  CurrentRatio(x)  \\\n",
       "2022-03-01         26.95         17.72                 0.34             1.12   \n",
       "2021-03-01         33.82         23.95                 0.38             1.34   \n",
       "2020-03-01          0.10         -7.07                 0.75             0.63   \n",
       "2019-03-01         10.31          9.66                 0.75             0.73   \n",
       "2018-03-01         20.31         20.57                 0.75             0.59   \n",
       "2017-03-01          1.07          0.15                 0.75             0.62   \n",
       "\n",
       "            QuickRatio(x)  InterestCover(x)  \n",
       "2022-03-01           0.78              6.75  \n",
       "2021-03-01           1.05              3.59  \n",
       "2020-03-01           0.45              3.43  \n",
       "2019-03-01           0.52              4.34  \n",
       "2018-03-01           0.39              7.13  \n",
       "2017-03-01           0.42             11.43  \n",
       "\n",
       "[6 rows x 38 columns]"
      ]
     },
     "execution_count": 15,
     "metadata": {},
     "output_type": "execute_result"
    }
   ],
   "source": [
    "reliace_ratio"
   ]
  },
  {
   "cell_type": "code",
   "execution_count": 16,
   "metadata": {},
   "outputs": [],
   "source": [
    "from spare_parts import get_company_list\n",
    "company_list = get_company_list()"
   ]
  },
  {
   "cell_type": "code",
   "execution_count": 17,
   "metadata": {},
   "outputs": [
    {
     "name": "stdout",
     "output_type": "stream",
     "text": [
      "RELIANCE\n",
      "TCS\n",
      "WIPRO\n",
      "ITC\n",
      "LT\n",
      "MARUTI\n",
      "TITAN\n",
      "ONGC\n",
      "NTPC\n",
      "HINDALCO\n",
      "IOC\n",
      "GRASIM\n",
      "BAJAJ-AUTO\n",
      "DABUR\n",
      "DLF\n",
      "SIEMENS\n",
      "CIPLA\n",
      "SRF\n",
      "BPCL\n",
      "INDIGO\n",
      "BRITANNIA\n",
      "HAVELLS\n",
      "TATACONSUM\n",
      "GAIL\n",
      "MARICO\n",
      "MPHASIS\n",
      "UPL\n",
      "BEL\n",
      "NMDC\n",
      "IDBI\n",
      "TRENT\n",
      "VOLTAS\n",
      "CONCOR\n",
      "SAIL\n",
      "ACC\n",
      "BIOCON\n",
      "UBL\n",
      "PNB\n",
      "PERSISTENT\n",
      "LUPIN\n",
      "ATUL\n",
      "PFC\n",
      "PETRONET\n",
      "NHPC\n",
      "IDEA\n",
      "MRF\n",
      "TRIDENT\n",
      "COFORGE\n",
      "IGL\n",
      "CRISIL\n",
      "COROMANDEL\n",
      "THERMAX\n",
      "ESCORTS\n",
      "FORTIS\n",
      "POONAWALLA\n",
      "TANLA\n",
      "PRESTIGE\n",
      "BHEL\n",
      "METROBRAND\n",
      "ENDURANCE\n",
      "IRB\n",
      "GSPL\n",
      "GNFC\n",
      "BSE\n",
      "GLENMARK\n",
      "RATNAMANI\n",
      "BRIGADE\n",
      "PVR\n",
      "KEI\n",
      "REDINGTON\n",
      "IIFL\n",
      "HFCL\n",
      "SJVN\n",
      "LXCHEM\n",
      "CYIENT\n",
      "JSL\n",
      "CESC\n",
      "MASTEK\n",
      "IDFC\n",
      "KEC\n",
      "MANAPPURAM\n",
      "SAREGAMA\n",
      "ITI\n",
      "ALLCARGO\n",
      "FSL\n",
      "FACT\n",
      "SUZLON\n",
      "ANURAS\n",
      "ECLERX\n",
      "SYMPHONY\n",
      "POLYPLEX\n",
      "GRANULES\n",
      "BEML\n",
      "TEAMLEASE\n",
      "PRIVISCL\n",
      "MRPL\n",
      "SOBHA\n",
      "MMTC\n",
      "HUDCO\n",
      "NBCC\n",
      "GSFC\n",
      "RTNINDIA\n",
      "RITES\n",
      "JUBLPHARMA\n",
      "EPL\n",
      "BBTC\n",
      "GAEL\n",
      "RAYMOND\n",
      "EDELWEISS\n",
      "GOCOLORS\n",
      "SCI\n",
      "NAZARA\n",
      "HEG\n",
      "GHCL\n",
      "INFIBEAM\n",
      "CRAFTSMAN\n",
      "HIKAL\n",
      "RCF\n",
      "BARBEQUE\n",
      "KRBL\n",
      "SUPRAJIT\n",
      "TCI\n"
     ]
    }
   ],
   "source": [
    "shortlisted = []\n",
    "for i in company_list[:500]:\n",
    "    try:\n",
    "        data_frame = ratios(i[1])\n",
    "        print(i[1])\n",
    "\n",
    "    except:\n",
    "        shortlisted.append(i[1])\n"
   ]
  },
  {
   "cell_type": "code",
   "execution_count": 19,
   "metadata": {},
   "outputs": [
    {
     "data": {
      "text/plain": [
       "['HDFCBANK',\n",
       " 'INFY',\n",
       " 'ICICIBANK',\n",
       " 'HINDUNILVR',\n",
       " 'SBIN',\n",
       " 'BAJFINANCE',\n",
       " 'HDFC',\n",
       " 'BHARTIARTL',\n",
       " 'KOTAKBANK',\n",
       " 'HCLTECH',\n",
       " 'ADANIGREEN',\n",
       " 'ASIANPAINT',\n",
       " 'BAJAJFINSV',\n",
       " 'ADANITRANS',\n",
       " 'DMART',\n",
       " 'ATGL',\n",
       " 'AXISBANK',\n",
       " 'ADANIENT',\n",
       " 'SUNPHARMA',\n",
       " 'ULTRACEMCO',\n",
       " 'JSWSTEEL',\n",
       " 'ADANIPORTS',\n",
       " 'TATASTEEL',\n",
       " 'POWERGRID',\n",
       " 'VEDL',\n",
       " 'TECHM',\n",
       " 'TATAMOTORS',\n",
       " 'HINDZINC',\n",
       " 'PIDILITIND',\n",
       " 'DIVISLAB',\n",
       " 'HDFCLIFE',\n",
       " 'COALINDIA',\n",
       " 'SBILIFE',\n",
       " 'LTI',\n",
       " 'M&M',\n",
       " 'SHREECEM',\n",
       " 'SBICARD',\n",
       " 'NYKAA',\n",
       " 'GODREJCP',\n",
       " 'TATAPOWER',\n",
       " 'INDUSINDBK',\n",
       " 'ICICIPRULI',\n",
       " 'DRREDDY',\n",
       " 'ADANIPOWER',\n",
       " 'MINDTREE',\n",
       " 'BERGEPAINT',\n",
       " 'EICHERMOT',\n",
       " 'AWL',\n",
       " 'ICICIGI',\n",
       " 'APOLLOHOSP',\n",
       " 'ZOMATO',\n",
       " 'MCDOWELL-N',\n",
       " 'IRCTC',\n",
       " 'INDUSTOWER',\n",
       " 'AMBUJACEM',\n",
       " 'CHOLAFIN',\n",
       " 'NAUKRI',\n",
       " 'BANKBARODA',\n",
       " 'BAJAJHLDNG',\n",
       " 'TATAELXSI',\n",
       " 'JINDALSTEL',\n",
       " 'LODHA',\n",
       " 'LTTS',\n",
       " 'GLAND',\n",
       " 'MUTHOOTFIN',\n",
       " 'PEL',\n",
       " 'JSWENERGY',\n",
       " 'HAL',\n",
       " 'BANDHANBNK',\n",
       " 'PAGEIND',\n",
       " 'TORNTPHARM',\n",
       " 'PGHH',\n",
       " 'GODREJPROP',\n",
       " 'HEROMOTOCO',\n",
       " 'HDFCAMC',\n",
       " 'ABB',\n",
       " 'MOTHERSUMI',\n",
       " 'ALKEM',\n",
       " 'PIIND',\n",
       " 'BOSCHLTD',\n",
       " 'COLPAL',\n",
       " 'CANBK',\n",
       " 'BALKRISIND',\n",
       " 'STARHEALTH',\n",
       " 'VBL',\n",
       " 'ASTRAL',\n",
       " 'SONACOMS',\n",
       " 'AUBANK',\n",
       " 'AUROPHARMA',\n",
       " 'HINDPETRO',\n",
       " 'ZYDUSLIFE',\n",
       " 'POLYCAB',\n",
       " 'HONAUT',\n",
       " 'TATACOMM',\n",
       " 'JUBLFOOD',\n",
       " 'AARTIIND',\n",
       " 'GUJGASLTD',\n",
       " 'ASHOKLEY',\n",
       " 'IOB',\n",
       " 'PAYTM']"
      ]
     },
     "execution_count": 19,
     "metadata": {},
     "output_type": "execute_result"
    }
   ],
   "source": [
    "shortlisted[:100]"
   ]
  },
  {
   "cell_type": "code",
   "execution_count": 20,
   "metadata": {},
   "outputs": [
    {
     "data": {
      "text/plain": [
       "['RELIANCE',\n",
       " 'TCS',\n",
       " 'WIPRO',\n",
       " 'ITC',\n",
       " 'LT',\n",
       " 'MARUTI',\n",
       " 'TITAN',\n",
       " 'ONGC',\n",
       " 'NTPC',\n",
       " 'HINDALCO',\n",
       " 'IOC',\n",
       " 'GRASIM',\n",
       " 'BAJAJ-AUTO',\n",
       " 'DABUR',\n",
       " 'DLF',\n",
       " 'SIEMENS',\n",
       " 'CIPLA',\n",
       " 'SRF',\n",
       " 'BPCL',\n",
       " 'INDIGO',\n",
       " 'BRITANNIA',\n",
       " 'HAVELLS',\n",
       " 'TATACONSUM',\n",
       " 'GAIL',\n",
       " 'MARICO',\n",
       " 'MPHASIS',\n",
       " 'UPL',\n",
       " 'BEL',\n",
       " 'NMDC',\n",
       " 'IDBI',\n",
       " 'TRENT',\n",
       " 'VOLTAS',\n",
       " 'CONCOR',\n",
       " 'SAIL',\n",
       " 'ACC',\n",
       " 'BIOCON',\n",
       " 'UBL',\n",
       " 'PNB',\n",
       " 'PERSISTENT',\n",
       " 'LUPIN',\n",
       " 'ATUL',\n",
       " 'PFC',\n",
       " 'PETRONET',\n",
       " 'NHPC',\n",
       " 'IDEA',\n",
       " 'MRF',\n",
       " 'TRIDENT',\n",
       " 'COFORGE',\n",
       " 'IGL',\n",
       " 'CRISIL',\n",
       " 'COROMANDEL',\n",
       " 'THERMAX',\n",
       " 'ESCORTS',\n",
       " 'FORTIS',\n",
       " 'POONAWALLA',\n",
       " 'TANLA',\n",
       " 'PRESTIGE',\n",
       " 'BHEL',\n",
       " 'METROBRAND',\n",
       " 'ENDURANCE',\n",
       " 'IRB',\n",
       " 'GSPL',\n",
       " 'GNFC',\n",
       " 'BSE',\n",
       " 'GLENMARK',\n",
       " 'RATNAMANI',\n",
       " 'BRIGADE',\n",
       " 'PVR',\n",
       " 'KEI',\n",
       " 'REDINGTON',\n",
       " 'IIFL',\n",
       " 'HFCL',\n",
       " 'SJVN',\n",
       " 'LXCHEM',\n",
       " 'CYIENT',\n",
       " 'JSL',\n",
       " 'CESC',\n",
       " 'MASTEK',\n",
       " 'IDFC',\n",
       " 'KEC',\n",
       " 'MANAPPURAM',\n",
       " 'SAREGAMA',\n",
       " 'ITI',\n",
       " 'ALLCARGO',\n",
       " 'FSL',\n",
       " 'FACT',\n",
       " 'SUZLON',\n",
       " 'ANURAS',\n",
       " 'ECLERX',\n",
       " 'SYMPHONY',\n",
       " 'POLYPLEX',\n",
       " 'GRANULES',\n",
       " 'BEML',\n",
       " 'TEAMLEASE',\n",
       " 'PRIVISCL',\n",
       " 'MRPL',\n",
       " 'SOBHA',\n",
       " 'MMTC',\n",
       " 'HUDCO',\n",
       " 'NBCC',\n",
       " 'GSFC',\n",
       " 'RTNINDIA',\n",
       " 'RITES',\n",
       " 'JUBLPHARMA',\n",
       " 'EPL',\n",
       " 'BBTC',\n",
       " 'GAEL',\n",
       " 'RAYMOND',\n",
       " 'EDELWEISS',\n",
       " 'GOCOLORS',\n",
       " 'SCI',\n",
       " 'NAZARA',\n",
       " 'HEG',\n",
       " 'GHCL',\n",
       " 'INFIBEAM',\n",
       " 'CRAFTSMAN',\n",
       " 'HIKAL',\n",
       " 'RCF',\n",
       " 'BARBEQUE',\n",
       " 'KRBL',\n",
       " 'SUPRAJIT',\n",
       " 'TCI']"
      ]
     },
     "execution_count": 20,
     "metadata": {},
     "output_type": "execute_result"
    }
   ],
   "source": [
    "selected_list = []\n",
    "for i in company_list[:500]:\n",
    "    if(i[1] not in shortlisted):\n",
    "        selected_list.append(i[1])\n",
    "\n",
    "selected_list"
   ]
  },
  {
   "cell_type": "code",
   "execution_count": 21,
   "metadata": {},
   "outputs": [
    {
     "data": {
      "text/plain": [
       "4398"
      ]
     },
     "execution_count": 21,
     "metadata": {},
     "output_type": "execute_result"
    }
   ],
   "source": [
    "data_1 = open(\"selected_list.txt\", \"w\")\n",
    "data_1.write(str(selected_list) + \"\\n\")\n",
    "data_1.write(str(shortlisted) + \"\\n\")\n",
    "\n"
   ]
  },
  {
   "cell_type": "code",
   "execution_count": 22,
   "metadata": {},
   "outputs": [],
   "source": [
    "data_1.close()"
   ]
  }
 ],
 "metadata": {
  "kernelspec": {
   "display_name": "data_science",
   "language": "python",
   "name": "python3"
  },
  "language_info": {
   "codemirror_mode": {
    "name": "ipython",
    "version": 3
   },
   "file_extension": ".py",
   "mimetype": "text/x-python",
   "name": "python",
   "nbconvert_exporter": "python",
   "pygments_lexer": "ipython3",
   "version": "3.10.9"
  },
  "orig_nbformat": 4
 },
 "nbformat": 4,
 "nbformat_minor": 2
}
